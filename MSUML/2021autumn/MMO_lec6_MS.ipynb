{
  "nbformat": 4,
  "nbformat_minor": 0,
  "metadata": {
    "colab": {
      "name": "MSUML_MS.ipynb",
      "provenance": [],
      "collapsed_sections": []
    },
    "kernelspec": {
      "name": "python3",
      "display_name": "Python 3"
    },
    "language_info": {
      "name": "python"
    }
  },
  "cells": [
    {
      "cell_type": "code",
      "metadata": {
        "colab": {
          "base_uri": "https://localhost:8080/"
        },
        "id": "3pKA81nLbIcn",
        "outputId": "1794d10a-4740-4b73-cc9e-041342a8f265"
      },
      "source": [
        "import pandas as pd\n",
        "import numpy as np\n",
        "%pylab inline\n",
        "plt.style.use('seaborn-dark')\n",
        "import warnings\n",
        "warnings.filterwarnings(\"ignore\") # отключение варнингов\n",
        "pd.set_option('display.max_columns', None) # pd.options.display.max_columns = None \n",
        "# pd.set_option('display.max_rows', None) # не прятать столбцы при выводе дата-фреймов\n",
        "import matplotlib.pyplot as plt\n",
        "import matplotlib as mpl\n",
        "plt.rc('font', size=14)\n",
        "\n",
        "from mlxtend.plotting import plot_decision_regions"
      ],
      "execution_count": 1,
      "outputs": [
        {
          "output_type": "stream",
          "name": "stdout",
          "text": [
            "Populating the interactive namespace from numpy and matplotlib\n"
          ]
        }
      ]
    },
    {
      "cell_type": "markdown",
      "metadata": {
        "id": "qsa1MB5PbewZ"
      },
      "source": [
        "# Линейная регрессия"
      ]
    },
    {
      "cell_type": "code",
      "metadata": {
        "colab": {
          "base_uri": "https://localhost:8080/",
          "height": 294
        },
        "id": "eecsNoR3bh1Q",
        "outputId": "9193d87e-8d5c-40b7-c52d-682a4c352c53"
      },
      "source": [
        "from sklearn.linear_model import LinearRegression\n",
        "from sklearn.linear_model import Ridge\n",
        "\n",
        "np.random.seed(10)\n",
        "\n",
        "X = np.random.randn(20, 1)\n",
        "y = 1/((X+1)**2 + 1) + 0.1*np.random.randn(20, 1)\n",
        "\n",
        "XX = np.linspace(-2, 2, 101)\n",
        "yy = 1/((XX+1)**2 + 1)\n",
        "\n",
        "model = Ridge(1000)\n",
        "model.fit(X, y)\n",
        "X2 = XX[:, np.newaxis]\n",
        "a = model.predict(X2)\n",
        "plt.scatter(X[:,0], y)\n",
        "plt.plot(XX, a, c='k', label='model')\n",
        "plt.plot(XX, yy, '--', c='red', label='True')\n",
        "plt.xlabel('$x$')\n",
        "plt.ylabel('$y(x)$')\n",
        "plt.legend()"
      ],
      "execution_count": 20,
      "outputs": [
        {
          "output_type": "execute_result",
          "data": {
            "text/plain": [
              "<matplotlib.legend.Legend at 0x7ff432816350>"
            ]
          },
          "metadata": {},
          "execution_count": 20
        },
        {
          "output_type": "display_data",
          "data": {
            "image/png": "[encoded data removed]",
            "text/plain": [
              "<Figure size 432x288 with 1 Axes>"
            ]
          },
          "metadata": {
            "needs_background": "light"
          }
        }
      ]
    },
    {
      "cell_type": "markdown",
      "metadata": {
        "id": "WD8Sp37ocNd9"
      },
      "source": [
        "# Подсказка\n",
        "\n",
        "ответы на вопросы с помощью экспериментов"
      ]
    },
    {
      "cell_type": "code",
      "metadata": {
        "colab": {
          "base_uri": "https://localhost:8080/"
        },
        "id": "FIomjKBycQtT",
        "outputId": "765d0da7-4544-473b-88eb-1e6abf31801c"
      },
      "source": [
        "from sklearn.linear_model import Ridge\n",
        "\n",
        "x = np.random.rand(10)\n",
        "X = np.stack([x, 2*x], axis=0).T\n",
        "y = x **2\n",
        "\n",
        "model = Ridge(1)\n",
        "model.fit(X, y)\n",
        "model.coef_"
      ],
      "execution_count": 22,
      "outputs": [
        {
          "output_type": "execute_result",
          "data": {
            "text/plain": [
              "array([0.17116123, 0.34232246])"
            ]
          },
          "metadata": {},
          "execution_count": 22
        }
      ]
    },
    {
      "cell_type": "code",
      "metadata": {
        "id": "PUWkNIe8ky_d"
      },
      "source": [
        ""
      ],
      "execution_count": null,
      "outputs": []
    },
    {
      "cell_type": "markdown",
      "metadata": {
        "id": "hItrILoHb3Zz"
      },
      "source": [
        "# Логистическая регрессия"
      ]
    },
    {
      "cell_type": "code",
      "metadata": {
        "colab": {
          "base_uri": "https://localhost:8080/",
          "height": 397
        },
        "id": "hA9CvvjFb6ZV",
        "outputId": "2d5d1860-538c-483d-d028-6c89f0db3fa3"
      },
      "source": [
        "from sklearn.datasets import make_moons\n",
        "\n",
        "n_samples=100\n",
        "\n",
        "X, y = make_moons(n_samples=n_samples, shuffle=False, noise=0.1, random_state=1)\n",
        "\n",
        "# прореживаем, чтобы был дисбаланс\n",
        "i = (y==0) | (np.random.rand(n_samples) > 0.75)\n",
        "X = X[i, :]\n",
        "y = y[i]\n",
        "\n",
        "plt.figure(figsize=(7, 3))\n",
        "plt.scatter(X[:,0], X[:,1], 40, y)\n",
        "pd.DataFrame(X[:5,:])"
      ],
      "execution_count": 24,
      "outputs": [
        {
          "output_type": "execute_result",
          "data": {
            "text/html": [
              "<div>\n",
              "<style scoped>\n",
              "    .dataframe tbody tr th:only-of-type {\n",
              "        vertical-align: middle;\n",
              "    }\n",
              "\n",
              "    .dataframe tbody tr th {\n",
              "        vertical-align: top;\n",
              "    }\n",
              "\n",
              "    .dataframe thead th {\n",
              "        text-align: right;\n",
              "    }\n",
              "</style>\n",
              "<table border=\"1\" class=\"dataframe\">\n",
              "  <thead>\n",
              "    <tr style=\"text-align: right;\">\n",
              "      <th></th>\n",
              "      <th>0</th>\n",
              "      <th>1</th>\n",
              "    </tr>\n",
              "  </thead>\n",
              "  <tbody>\n",
              "    <tr>\n",
              "      <th>0</th>\n",
              "      <td>1.162435</td>\n",
              "      <td>-0.061176</td>\n",
              "    </tr>\n",
              "    <tr>\n",
              "      <th>1</th>\n",
              "      <td>0.945128</td>\n",
              "      <td>-0.043227</td>\n",
              "    </tr>\n",
              "    <tr>\n",
              "      <th>2</th>\n",
              "      <td>1.078331</td>\n",
              "      <td>-0.102277</td>\n",
              "    </tr>\n",
              "    <tr>\n",
              "      <th>3</th>\n",
              "      <td>1.156040</td>\n",
              "      <td>0.115038</td>\n",
              "    </tr>\n",
              "    <tr>\n",
              "      <th>4</th>\n",
              "      <td>0.999199</td>\n",
              "      <td>0.228718</td>\n",
              "    </tr>\n",
              "  </tbody>\n",
              "</table>\n",
              "</div>"
            ],
            "text/plain": [
              "          0         1\n",
              "0  1.162435 -0.061176\n",
              "1  0.945128 -0.043227\n",
              "2  1.078331 -0.102277\n",
              "3  1.156040  0.115038\n",
              "4  0.999199  0.228718"
            ]
          },
          "metadata": {},
          "execution_count": 24
        },
        {
          "output_type": "display_data",
          "data": {
            "image/png": "[encoded data removed]",
            "text/plain": [
              "<Figure size 504x216 with 1 Axes>"
            ]
          },
          "metadata": {
            "needs_background": "light"
          }
        }
      ]
    },
    {
      "cell_type": "code",
      "metadata": {
        "colab": {
          "base_uri": "https://localhost:8080/"
        },
        "id": "4YbbjtqMlVQU",
        "outputId": "9b5ca437-0fcc-485c-edfb-afb57d341800"
      },
      "source": [
        "X.shape"
      ],
      "execution_count": 25,
      "outputs": [
        {
          "output_type": "execute_result",
          "data": {
            "text/plain": [
              "(63, 2)"
            ]
          },
          "metadata": {},
          "execution_count": 25
        }
      ]
    },
    {
      "cell_type": "code",
      "metadata": {
        "colab": {
          "base_uri": "https://localhost:8080/",
          "height": 280
        },
        "id": "-8vCT5gub7NN",
        "outputId": "6faf9a69-802e-4335-d108-ef2a34eeb4db"
      },
      "source": [
        "from sklearn.linear_model import LogisticRegression\n",
        "logreg = LogisticRegression(C=1.001)\n",
        "logreg.fit(X, y)\n",
        "plot_decision_regions(X, y, logreg)"
      ],
      "execution_count": 31,
      "outputs": [
        {
          "output_type": "execute_result",
          "data": {
            "text/plain": [
              "<matplotlib.axes._subplots.AxesSubplot at 0x7ff4351a9250>"
            ]
          },
          "metadata": {},
          "execution_count": 31
        },
        {
          "output_type": "display_data",
          "data": {
            "image/png": "[encoded data removed]",
            "text/plain": [
              "<Figure size 432x288 with 1 Axes>"
            ]
          },
          "metadata": {
            "needs_background": "light"
          }
        }
      ]
    },
    {
      "cell_type": "code",
      "metadata": {
        "id": "L96uAWbtcC33"
      },
      "source": [
        "sklearn.linear_mode.LogisticRegression"
      ],
      "execution_count": null,
      "outputs": []
    },
    {
      "cell_type": "markdown",
      "metadata": {
        "id": "ZnANFavac1y0"
      },
      "source": [
        "# Валидация"
      ]
    },
    {
      "cell_type": "code",
      "metadata": {
        "colab": {
          "base_uri": "https://localhost:8080/",
          "height": 280
        },
        "id": "WhFaVe96c3yR",
        "outputId": "5f7c587b-57c2-4cc0-deb2-949ab41cbdc1"
      },
      "source": [
        "from sklearn.model_selection import train_test_split\n",
        "X_train, X_test, y_train, y_test = train_test_split(X, y, test_size=0.33,\n",
        "                                                    random_state=43,\n",
        "                                                    shuffle=True)\n",
        "plt.scatter(X_train[:,0], X_train[:,1], 40, y_train, lw=0.5, edgecolor='b')\n",
        "plt.scatter(X_test[:,0], X_test[:,1], 20, y_test, marker='s', lw=0.5, edgecolor='r')"
      ],
      "execution_count": 32,
      "outputs": [
        {
          "output_type": "execute_result",
          "data": {
            "text/plain": [
              "<matplotlib.collections.PathCollection at 0x7ff429711290>"
            ]
          },
          "metadata": {},
          "execution_count": 32
        },
        {
          "output_type": "display_data",
          "data": {
            "image/png": "[encoded data removed]",
            "text/plain": [
              "<Figure size 432x288 with 1 Axes>"
            ]
          },
          "metadata": {
            "needs_background": "light"
          }
        }
      ]
    },
    {
      "cell_type": "code",
      "metadata": {
        "colab": {
          "base_uri": "https://localhost:8080/"
        },
        "id": "SFS6szcuc7sy",
        "outputId": "eb69a3bf-8b8d-4281-d1bc-86660dd4ff66"
      },
      "source": [
        "from sklearn.model_selection import ShuffleSplit\n",
        "\n",
        "ss = ShuffleSplit(n_splits=4, test_size=0.3, random_state=1)\n",
        "\n",
        "for i, (train_index, test_index) in enumerate(ss.split(np.arange(10))):\n",
        "    print (i, train_index, test_index)"
      ],
      "execution_count": 13,
      "outputs": [
        {
          "output_type": "stream",
          "name": "stdout",
          "text": [
            "0 [4 0 3 1 7 8 5] [2 9 6]\n",
            "1 [0 8 4 2 1 6 7] [9 5 3]\n",
            "2 [9 0 6 1 7 4 2] [8 3 5]\n",
            "3 [0 6 1 5 8 7 9] [2 4 3]\n"
          ]
        }
      ]
    },
    {
      "cell_type": "code",
      "metadata": {
        "colab": {
          "base_uri": "https://localhost:8080/"
        },
        "id": "1czXu2yTdI7y",
        "outputId": "c34a1139-657a-4a54-ea73-3cbd058c3266"
      },
      "source": [
        "from sklearn.model_selection import StratifiedShuffleSplit\n",
        "\n",
        "ss = StratifiedShuffleSplit(n_splits=4, test_size=0.3, random_state=1)\n",
        "\n",
        "for i, (train_index, test_index) in enumerate(ss.split(np.arange(10),\n",
        "                                             [1,1,1,1,0,0,0,0,0,0])):\n",
        "    print (i, train_index, test_index)"
      ],
      "execution_count": 14,
      "outputs": [
        {
          "output_type": "stream",
          "name": "stdout",
          "text": [
            "0 [8 4 0 2 5 3 6] [7 9 1]\n",
            "1 [9 3 4 7 5 2 1] [6 8 0]\n",
            "2 [8 7 0 3 6 4 2] [5 9 1]\n",
            "3 [0 2 9 5 3 6 8] [7 1 4]\n"
          ]
        }
      ]
    },
    {
      "cell_type": "code",
      "metadata": {
        "colab": {
          "base_uri": "https://localhost:8080/"
        },
        "id": "BRE0wcEgdLNo",
        "outputId": "b2bbf4d1-9d75-46c9-80ef-39ab2c855449"
      },
      "source": [
        "from sklearn.model_selection import GroupShuffleSplit\n",
        "\n",
        "gss = GroupShuffleSplit(n_splits=10)\n",
        "\n",
        "for i, (train_index, test_index) in enumerate(gss.split(np.arange(10),\n",
        "                                                       groups=[1,1,1,2,2,2,3,3,4,4])):\n",
        "    print (i, train_index, test_index)\n",
        "    # if i > 10:\n",
        "    #     print ('...')\n",
        "    #     break"
      ],
      "execution_count": 15,
      "outputs": [
        {
          "output_type": "stream",
          "name": "stdout",
          "text": [
            "0 [0 1 2 3 4 5 6 7] [8 9]\n",
            "1 [0 1 2 6 7 8 9] [3 4 5]\n",
            "2 [0 1 2 3 4 5 8 9] [6 7]\n",
            "3 [0 1 2 3 4 5 6 7] [8 9]\n",
            "4 [3 4 5 6 7 8 9] [0 1 2]\n",
            "5 [0 1 2 6 7 8 9] [3 4 5]\n",
            "6 [0 1 2 6 7 8 9] [3 4 5]\n",
            "7 [0 1 2 3 4 5 8 9] [6 7]\n",
            "8 [0 1 2 6 7 8 9] [3 4 5]\n",
            "9 [0 1 2 3 4 5 6 7] [8 9]\n"
          ]
        }
      ]
    },
    {
      "cell_type": "code",
      "metadata": {
        "colab": {
          "base_uri": "https://localhost:8080/",
          "height": 208
        },
        "id": "O4VyLrImdOiR",
        "outputId": "919f9d25-85ba-4f49-e94f-f97a9c683b88"
      },
      "source": [
        "from sklearn.model_selection import KFold\n",
        "\n",
        "n_splits=3\n",
        "\n",
        "kf = KFold(n_splits=n_splits, random_state=1, shuffle=True)\n",
        "\n",
        "plt.figure(figsize=(10, 3))\n",
        "for i, (train_index, test_index) in enumerate(kf.split(X)):\n",
        "    # print(\"TRAIN:\", train_index, \"TEST:\", test_index)\n",
        "    X_train, X_test = X[train_index], X[test_index]\n",
        "    y_train, y_test = y[train_index], y[test_index]\n",
        "    plt.subplot(1, n_splits, i+1)\n",
        "    plt.scatter(X_train[:,0], X_train[:,1], 40, y_train, lw=0.5, edgecolor='b')\n",
        "    plt.scatter(X_test[:,0], X_test[:,1], 20, y_test, marker='s', lw=0.5, edgecolor='r')"
      ],
      "execution_count": 33,
      "outputs": [
        {
          "output_type": "display_data",
          "data": {
            "image/png": "[encoded data removed]",
            "text/plain": [
              "<Figure size 720x216 with 3 Axes>"
            ]
          },
          "metadata": {
            "needs_background": "light"
          }
        }
      ]
    },
    {
      "cell_type": "code",
      "metadata": {
        "colab": {
          "base_uri": "https://localhost:8080/"
        },
        "id": "bncY6CM-dWyp",
        "outputId": "2a1e002c-6bb6-472c-9c56-b7883677a3fb"
      },
      "source": [
        "for i, (train_index, test_index) in enumerate(kf.split(np.arange(10))):\n",
        "    print (i, train_index, test_index)"
      ],
      "execution_count": 17,
      "outputs": [
        {
          "output_type": "stream",
          "name": "stdout",
          "text": [
            "0 [0 1 3 5 7 8] [2 4 6 9]\n",
            "1 [2 4 5 6 7 8 9] [0 1 3]\n",
            "2 [0 1 2 3 4 6 9] [5 7 8]\n"
          ]
        }
      ]
    },
    {
      "cell_type": "code",
      "metadata": {
        "colab": {
          "base_uri": "https://localhost:8080/",
          "height": 316
        },
        "id": "kKGJ-I8hduA_",
        "outputId": "c8740798-3cf4-4e14-88c2-87a51882d7bd"
      },
      "source": [
        "from sklearn.model_selection import RepeatedKFold\n",
        "\n",
        "n_splits = 3\n",
        "n_repeats = 2\n",
        "\n",
        "kf = RepeatedKFold(n_splits=n_splits, n_repeats=2, random_state=1)\n",
        "\n",
        "plt.figure(figsize=(10, 5))\n",
        "for i, (train_index, test_index) in enumerate(kf.split(X)):\n",
        "    # print(\"TRAIN:\", train_index, \"TEST:\", test_index)\n",
        "    X_train, X_test = X[train_index], X[test_index]\n",
        "    y_train, y_test = y[train_index], y[test_index]\n",
        "    plt.subplot(n_repeats, n_splits, i+1)\n",
        "    plt.scatter(X_train[:,0], X_train[:,1], 40, y_train, lw=0.3, edgecolor='b')\n",
        "    plt.scatter(X_test[:,0], X_test[:,1], 20, y_test, marker='s', lw=0.3, edgecolor='r')"
      ],
      "execution_count": 18,
      "outputs": [
        {
          "output_type": "display_data",
          "data": {
            "image/png": "[encoded data removed]",
            "text/plain": [
              "<Figure size 720x360 with 6 Axes>"
            ]
          },
          "metadata": {
            "needs_background": "light"
          }
        }
      ]
    },
    {
      "cell_type": "code",
      "metadata": {
        "colab": {
          "base_uri": "https://localhost:8080/"
        },
        "id": "D82U7tu2dyYQ",
        "outputId": "5a9f2100-88ad-4759-e24c-558aa317f15b"
      },
      "source": [
        "for i, (train_index, test_index) in enumerate(kf.split(np.arange(10))):\n",
        "    print (i, train_index, test_index)"
      ],
      "execution_count": 19,
      "outputs": [
        {
          "output_type": "stream",
          "name": "stdout",
          "text": [
            "0 [0 1 3 5 7 8] [2 4 6 9]\n",
            "1 [2 4 5 6 7 8 9] [0 1 3]\n",
            "2 [0 1 2 3 4 6 9] [5 7 8]\n",
            "3 [1 2 4 6 7 8] [0 3 5 9]\n",
            "4 [0 1 3 5 6 7 9] [2 4 8]\n",
            "5 [0 2 3 4 5 8 9] [1 6 7]\n"
          ]
        }
      ]
    },
    {
      "cell_type": "code",
      "metadata": {
        "colab": {
          "base_uri": "https://localhost:8080/"
        },
        "id": "D66RZ_ZCd2Ku",
        "outputId": "5f25b40e-8267-4fe0-f908-9beedb8d44fa"
      },
      "source": [
        "from sklearn.model_selection import LeaveOneOut\n",
        "\n",
        "loo = LeaveOneOut()\n",
        "\n",
        "for i, (train_index, test_index) in enumerate(loo.split(np.arange(10))):\n",
        "    print (i, train_index, test_index)"
      ],
      "execution_count": 34,
      "outputs": [
        {
          "output_type": "stream",
          "name": "stdout",
          "text": [
            "0 [1 2 3 4 5 6 7 8 9] [0]\n",
            "1 [0 2 3 4 5 6 7 8 9] [1]\n",
            "2 [0 1 3 4 5 6 7 8 9] [2]\n",
            "3 [0 1 2 4 5 6 7 8 9] [3]\n",
            "4 [0 1 2 3 5 6 7 8 9] [4]\n",
            "5 [0 1 2 3 4 6 7 8 9] [5]\n",
            "6 [0 1 2 3 4 5 7 8 9] [6]\n",
            "7 [0 1 2 3 4 5 6 8 9] [7]\n",
            "8 [0 1 2 3 4 5 6 7 9] [8]\n",
            "9 [0 1 2 3 4 5 6 7 8] [9]\n"
          ]
        }
      ]
    },
    {
      "cell_type": "code",
      "metadata": {
        "colab": {
          "base_uri": "https://localhost:8080/"
        },
        "id": "DE_noOFFeAOV",
        "outputId": "d93a8261-e6a4-48da-e338-939e1fb27fab"
      },
      "source": [
        "from sklearn.model_selection import LeavePOut\n",
        "\n",
        "loo = LeavePOut(2)\n",
        "\n",
        "for i, (train_index, test_index) in enumerate(loo.split(np.arange(10))):\n",
        "    print (i, train_index, test_index)\n",
        "    if i > 10:\n",
        "        print ('...')\n",
        "        break"
      ],
      "execution_count": 21,
      "outputs": [
        {
          "output_type": "stream",
          "name": "stdout",
          "text": [
            "0 [2 3 4 5 6 7 8 9] [0 1]\n",
            "1 [1 3 4 5 6 7 8 9] [0 2]\n",
            "2 [1 2 4 5 6 7 8 9] [0 3]\n",
            "3 [1 2 3 5 6 7 8 9] [0 4]\n",
            "4 [1 2 3 4 6 7 8 9] [0 5]\n",
            "5 [1 2 3 4 5 7 8 9] [0 6]\n",
            "6 [1 2 3 4 5 6 8 9] [0 7]\n",
            "7 [1 2 3 4 5 6 7 9] [0 8]\n",
            "8 [1 2 3 4 5 6 7 8] [0 9]\n",
            "9 [0 3 4 5 6 7 8 9] [1 2]\n",
            "10 [0 2 4 5 6 7 8 9] [1 3]\n",
            "11 [0 2 3 5 6 7 8 9] [1 4]\n",
            "...\n"
          ]
        }
      ]
    },
    {
      "cell_type": "code",
      "metadata": {
        "colab": {
          "base_uri": "https://localhost:8080/",
          "height": 207
        },
        "id": "oZrO5jPNeCE-",
        "outputId": "e8f4626b-651a-490c-b7cf-4d407d8aa4c2"
      },
      "source": [
        "from sklearn.model_selection import StratifiedKFold\n",
        "\n",
        "n_splits=3\n",
        "\n",
        "skf = StratifiedKFold(n_splits=n_splits, random_state=1, shuffle=True)\n",
        "\n",
        "plt.figure(figsize=(10, 3))\n",
        "for i, (train_index, test_index) in enumerate(skf.split(X, y)): # + y!!!\n",
        "    # print(\"TRAIN:\", train_index, \"TEST:\", test_index)\n",
        "    X_train, X_test = X[train_index], X[test_index]\n",
        "    y_train, y_test = y[train_index], y[test_index]\n",
        "    plt.subplot(1, n_splits, i+1)\n",
        "    plt.scatter(X_train[:,0], X_train[:,1], 40, y_train, lw=0.3, edgecolor='b')\n",
        "    plt.scatter(X_test[:,0], X_test[:,1], 20, y_test, marker='s', lw=0.3, edgecolor='r') "
      ],
      "execution_count": 22,
      "outputs": [
        {
          "output_type": "display_data",
          "data": {
            "image/png": "[encoded data removed]",
            "text/plain": [
              "<Figure size 720x216 with 3 Axes>"
            ]
          },
          "metadata": {
            "needs_background": "light"
          }
        }
      ]
    },
    {
      "cell_type": "code",
      "metadata": {
        "colab": {
          "base_uri": "https://localhost:8080/"
        },
        "id": "TWDgD6Q8eLOF",
        "outputId": "bf966a56-3839-4633-fa40-9d0590d364a5"
      },
      "source": [
        "skf = StratifiedKFold(n_splits=4, random_state=1, shuffle=False)\n",
        "\n",
        "for i, (train_index, test_index) in enumerate(skf.split(np.arange(10),\n",
        "                                                       [1,1,1,0,0,0,0,0,0,0])):\n",
        "    print (i, train_index, test_index)\n",
        "    # if i > 10:\n",
        "    #     print ('...')\n",
        "    #     break"
      ],
      "execution_count": 23,
      "outputs": [
        {
          "output_type": "stream",
          "name": "stdout",
          "text": [
            "0 [1 2 5 6 7 8 9] [0 3 4]\n",
            "1 [0 2 3 4 7 8 9] [1 5 6]\n",
            "2 [0 1 3 4 5 6 8 9] [2 7]\n",
            "3 [0 1 2 3 4 5 6 7] [8 9]\n"
          ]
        }
      ]
    },
    {
      "cell_type": "code",
      "metadata": {
        "colab": {
          "base_uri": "https://localhost:8080/"
        },
        "id": "uLYFfd6XeN0O",
        "outputId": "6059720a-4dc4-4a37-bbfa-67ef25391006"
      },
      "source": [
        "from sklearn.model_selection import TimeSeriesSplit\n",
        "\n",
        "\n",
        "\n",
        "tscv = TimeSeriesSplit(n_splits=3) # + появился gap\n",
        "\n",
        "\n",
        "for i, (train_index, test_index) in enumerate(tscv.split(np.arange(10))):\n",
        "    print (i, train_index, test_index)\n",
        "    # if i > 10:\n",
        "    #     print ('...')\n",
        "    #     break"
      ],
      "execution_count": 24,
      "outputs": [
        {
          "output_type": "stream",
          "name": "stdout",
          "text": [
            "0 [0 1 2 3] [4 5]\n",
            "1 [0 1 2 3 4 5] [6 7]\n",
            "2 [0 1 2 3 4 5 6 7] [8 9]\n"
          ]
        }
      ]
    },
    {
      "cell_type": "code",
      "metadata": {
        "id": "FMWS1qdzeSMN"
      },
      "source": [
        ""
      ],
      "execution_count": null,
      "outputs": []
    },
    {
      "cell_type": "markdown",
      "metadata": {
        "id": "DK6IdtWWeZFz"
      },
      "source": [
        "# Оценка алгоритмов"
      ]
    },
    {
      "cell_type": "code",
      "metadata": {
        "colab": {
          "base_uri": "https://localhost:8080/"
        },
        "id": "sVYDORwTecFU",
        "outputId": "9ac73cf9-dc75-4cee-f3dd-be6f87964a76"
      },
      "source": [
        "from sklearn.model_selection import cross_val_score\n",
        "from sklearn.model_selection import StratifiedShuffleSplit\n",
        "from sklearn.linear_model import LogisticRegression\n",
        "\n",
        "logreg = LogisticRegression()\n",
        "cv = StratifiedShuffleSplit(n_splits=10,\n",
        "                  test_size=0.25,\n",
        "                  random_state=1)\n",
        "scores = cross_val_score(logreg, X, y, cv=cv, scoring='accuracy')\n",
        "print (f'accuracy = {scores.mean().round(3)} \\u00B1 {scores.std().round(3)}')"
      ],
      "execution_count": 36,
      "outputs": [
        {
          "output_type": "stream",
          "name": "stdout",
          "text": [
            "accuracy = 0.894 ± 0.063\n"
          ]
        }
      ]
    },
    {
      "cell_type": "code",
      "metadata": {
        "colab": {
          "base_uri": "https://localhost:8080/"
        },
        "id": "G3KgSG-Jm-RH",
        "outputId": "79819580-0972-40cf-9d0b-4610b2c7098b"
      },
      "source": [
        "scores"
      ],
      "execution_count": 37,
      "outputs": [
        {
          "output_type": "execute_result",
          "data": {
            "text/plain": [
              "array([0.8125, 0.875 , 0.9375, 0.875 , 0.9375, 0.9375, 1.    , 0.9375,\n",
              "       0.8125, 0.8125])"
            ]
          },
          "metadata": {},
          "execution_count": 37
        }
      ]
    },
    {
      "cell_type": "code",
      "metadata": {
        "colab": {
          "base_uri": "https://localhost:8080/",
          "height": 294
        },
        "id": "Opz4gho-ec2c",
        "outputId": "a15b9295-c49d-4240-a735-26f402efc94b"
      },
      "source": [
        "from sklearn.model_selection import RepeatedKFold\n",
        "\n",
        "accs = []\n",
        "stds = []\n",
        "pars = [2, 3, 4, 5, 6, 7, 8, 9, 10]\n",
        "for k in pars:\n",
        "    cv = RepeatedKFold(n_splits=k, n_repeats=10) # KFold(n_splits=k, shuffle=True, random_state=1)\n",
        "    scores = cross_val_score(logreg, X, y, cv=cv, scoring='accuracy')\n",
        "    accs.append(scores.mean())\n",
        "    stds.append(scores.std())\n",
        "    \n",
        "accs = np.array(accs)    \n",
        "stds = np.array(stds)\n",
        "    \n",
        "plt.figure(figsize=(10, 4))    \n",
        "plt.fill_between(pars, accs - stds, accs + stds, color='b', alpha=0.2)\n",
        "plt.plot(pars, accs)\n",
        "plt.xlabel('n_splits')\n",
        "plt.ylabel('accuracy')"
      ],
      "execution_count": 39,
      "outputs": [
        {
          "output_type": "execute_result",
          "data": {
            "text/plain": [
              "Text(0, 0.5, 'accuracy')"
            ]
          },
          "metadata": {},
          "execution_count": 39
        },
        {
          "output_type": "display_data",
          "data": {
            "image/png": "[encoded data removed]",
            "text/plain": [
              "<Figure size 720x288 with 1 Axes>"
            ]
          },
          "metadata": {
            "needs_background": "light"
          }
        }
      ]
    },
    {
      "cell_type": "code",
      "metadata": {
        "id": "PdEa5DFhem8c"
      },
      "source": [
        "from sklearn.model_selection import validation_curve\n",
        "from sklearn.model_selection import StratifiedKFold\n",
        "\n",
        "model = LogisticRegression()\n",
        "cv = StratifiedKFold(n_splits=4, shuffle=True, random_state=1)\n",
        "\n",
        "param_range = [0.01, 0.1, 1.0, 10, 100]\n",
        "train_scores, test_scores = validation_curve(estimator=model, X=X, y=y,\n",
        "                                             param_name='C',\n",
        "                                             param_range=param_range,\n",
        "                                             cv=cv, scoring='accuracy')\n",
        "train_scores_means = train_scores.mean(axis=1)\n",
        "train_scores_stds = train_scores.std(axis=1)\n",
        "test_scores_means = test_scores.mean(axis=1)\n",
        "test_scores_stds = test_scores.std(axis=1)"
      ],
      "execution_count": 41,
      "outputs": []
    },
    {
      "cell_type": "code",
      "metadata": {
        "colab": {
          "base_uri": "https://localhost:8080/",
          "height": 280
        },
        "id": "-b_E_EsSe26q",
        "outputId": "0a76cbe7-dbbc-4cb9-8318-067819caefad"
      },
      "source": [
        "plt.figure(figsize=(10, 4))    \n",
        "plt.fill_between(param_range,\n",
        "                train_scores_means - train_scores_stds,\n",
        "                 train_scores_means + train_scores_stds,\n",
        "                 color='b', alpha=0.1)\n",
        "plt.plot(param_range, train_scores_means)\n",
        "plt.fill_between(param_range,\n",
        "                test_scores_means - test_scores_stds,\n",
        "                 test_scores_means + test_scores_stds,\n",
        "                 color='r', alpha=0.1)\n",
        "plt.plot(param_range, test_scores_means)\n",
        "plt.xlabel('param_range')\n",
        "plt.ylabel('accuracy')\n",
        "plt.xscale('log')"
      ],
      "execution_count": 42,
      "outputs": [
        {
          "output_type": "display_data",
          "data": {
            "image/png": "[encoded data removed]",
            "text/plain": [
              "<Figure size 720x288 with 1 Axes>"
            ]
          },
          "metadata": {
            "needs_background": "light"
          }
        }
      ]
    },
    {
      "cell_type": "code",
      "metadata": {
        "id": "WhVTGidMe9z6"
      },
      "source": [
        ""
      ],
      "execution_count": 31,
      "outputs": []
    },
    {
      "cell_type": "markdown",
      "metadata": {
        "id": "PUeAYVbefb6M"
      },
      "source": [
        "# cross_val_predict"
      ]
    },
    {
      "cell_type": "code",
      "metadata": {
        "id": "jiN4_L4Lc4bq"
      },
      "source": [
        "from sklearn.model_selection import cross_val_predict\n",
        "from sklearn.svm import SVC\n",
        "\n",
        "logreg = LogisticRegression(C=100)\n",
        "svm = SVC(C=1.0, kernel='rbf', probability=True)"
      ],
      "execution_count": 43,
      "outputs": []
    },
    {
      "cell_type": "code",
      "metadata": {
        "id": "cgTd0jf5bikA"
      },
      "source": [
        "cv = KFold(n_splits=4, shuffle=True, random_state=1)\n",
        "\n",
        "a_logreg = cross_val_predict(estimator=logreg, X=X, y=y,\n",
        "                       cv = cv, method='predict_proba')\n",
        "\n",
        "a_svm = cross_val_predict(estimator=svm, X=X, y=y,\n",
        "                       cv = cv, method='predict_proba')"
      ],
      "execution_count": 44,
      "outputs": []
    },
    {
      "cell_type": "code",
      "metadata": {
        "colab": {
          "base_uri": "https://localhost:8080/",
          "height": 294
        },
        "id": "-Y8OEZbZbrd2",
        "outputId": "07a4d276-2864-45b9-f607-c9b5150fb0c9"
      },
      "source": [
        "plt.scatter(a_logreg[:,1], a_svm[:,1], 100, y, 's')\n",
        "plt.xlabel('logreg')\n",
        "plt.ylabel('svm')"
      ],
      "execution_count": 50,
      "outputs": [
        {
          "output_type": "execute_result",
          "data": {
            "text/plain": [
              "Text(0, 0.5, 'svm')"
            ]
          },
          "metadata": {},
          "execution_count": 50
        },
        {
          "output_type": "display_data",
          "data": {
            "image/png": "[encoded data removed]",
            "text/plain": [
              "<Figure size 432x288 with 1 Axes>"
            ]
          },
          "metadata": {
            "needs_background": "light"
          }
        }
      ]
    },
    {
      "cell_type": "code",
      "metadata": {
        "colab": {
          "base_uri": "https://localhost:8080/"
        },
        "id": "Z6MC36-2fvBA",
        "outputId": "cca1970e-7f04-41fa-dc84-1c3fcb0c4491"
      },
      "source": [
        "a_logreg"
      ],
      "execution_count": 46,
      "outputs": [
        {
          "output_type": "execute_result",
          "data": {
            "text/plain": [
              "array([[1.89003982e-01, 8.10996018e-01],\n",
              "       [2.48203923e-01, 7.51796077e-01],\n",
              "       [3.28783408e-01, 6.71216592e-01],\n",
              "       [7.78651587e-01, 2.21348413e-01],\n",
              "       [8.87374567e-01, 1.12625433e-01],\n",
              "       [4.32824360e-01, 5.67175640e-01],\n",
              "       [8.07518775e-01, 1.92481225e-01],\n",
              "       [7.72413077e-01, 2.27586923e-01],\n",
              "       [8.70982166e-01, 1.29017834e-01],\n",
              "       [9.62219394e-01, 3.77806057e-02],\n",
              "       [9.99212304e-01, 7.87695810e-04],\n",
              "       [9.79109838e-01, 2.08901619e-02],\n",
              "       [9.68545083e-01, 3.14549173e-02],\n",
              "       [9.96087630e-01, 3.91236982e-03],\n",
              "       [9.99167558e-01, 8.32441710e-04],\n",
              "       [9.91461727e-01, 8.53827308e-03],\n",
              "       [9.91393052e-01, 8.60694788e-03],\n",
              "       [9.99896016e-01, 1.03984364e-04],\n",
              "       [9.99658224e-01, 3.41776080e-04],\n",
              "       [9.99954406e-01, 4.55938872e-05],\n",
              "       [9.99406548e-01, 5.93452180e-04],\n",
              "       [9.99694773e-01, 3.05226944e-04],\n",
              "       [9.99623186e-01, 3.76814362e-04],\n",
              "       [9.99962814e-01, 3.71856390e-05],\n",
              "       [9.99514823e-01, 4.85176594e-04],\n",
              "       [9.99737060e-01, 2.62939651e-04],\n",
              "       [9.99225442e-01, 7.74558238e-04],\n",
              "       [9.99545866e-01, 4.54133826e-04],\n",
              "       [9.99889942e-01, 1.10057519e-04],\n",
              "       [9.99871820e-01, 1.28179593e-04],\n",
              "       [9.99890928e-01, 1.09071506e-04],\n",
              "       [9.99976626e-01, 2.33736602e-05],\n",
              "       [9.99504686e-01, 4.95313775e-04],\n",
              "       [9.99992374e-01, 7.62571906e-06],\n",
              "       [9.99872945e-01, 1.27055076e-04],\n",
              "       [9.97724244e-01, 2.27575569e-03],\n",
              "       [9.99979588e-01, 2.04119599e-05],\n",
              "       [9.84306303e-01, 1.56936966e-02],\n",
              "       [9.97759277e-01, 2.24072319e-03],\n",
              "       [9.96728333e-01, 3.27166723e-03],\n",
              "       [9.99833171e-01, 1.66828820e-04],\n",
              "       [9.92196565e-01, 7.80343462e-03],\n",
              "       [9.86700718e-01, 1.32992823e-02],\n",
              "       [9.80889558e-01, 1.91104418e-02],\n",
              "       [9.85690749e-01, 1.43092511e-02],\n",
              "       [9.45850818e-01, 5.41491825e-02],\n",
              "       [8.24749073e-01, 1.75250927e-01],\n",
              "       [9.96467360e-01, 3.53264025e-03],\n",
              "       [8.76595469e-01, 1.23404531e-01],\n",
              "       [7.47417608e-01, 2.52582392e-01],\n",
              "       [9.89902211e-01, 1.00977888e-02],\n",
              "       [4.17342040e-01, 5.82657960e-01],\n",
              "       [9.07781343e-01, 9.22186568e-02],\n",
              "       [1.15932188e-01, 8.84067812e-01],\n",
              "       [3.56502709e-01, 6.43497291e-01],\n",
              "       [5.70629057e-02, 9.42937094e-01],\n",
              "       [1.25679769e-01, 8.74320231e-01],\n",
              "       [1.06890358e-02, 9.89310964e-01],\n",
              "       [2.27164311e-02, 9.77283569e-01],\n",
              "       [3.11987737e-02, 9.68801226e-01],\n",
              "       [4.77854648e-02, 9.52214535e-01],\n",
              "       [3.49848202e-01, 6.50151798e-01],\n",
              "       [8.50756052e-01, 1.49243948e-01]])"
            ]
          },
          "metadata": {},
          "execution_count": 46
        }
      ]
    },
    {
      "cell_type": "markdown",
      "metadata": {
        "id": "bab6V2mvgtOt"
      },
      "source": [
        "# Learning Curve"
      ]
    },
    {
      "cell_type": "code",
      "metadata": {
        "colab": {
          "base_uri": "https://localhost:8080/",
          "height": 294
        },
        "id": "KcsnkYmpgwdj",
        "outputId": "2537327f-1687-4226-a0c6-76809d8f7c2f"
      },
      "source": [
        "from sklearn.model_selection import learning_curve\n",
        "\n",
        "from sklearn.model_selection import StratifiedKFold\n",
        "\n",
        "model = LogisticRegression()\n",
        "cv = StratifiedKFold(n_splits=10, shuffle=True, random_state=1)\n",
        "\n",
        "train_sizes = np.linspace(0,1,21)[1:]\n",
        "\n",
        "train_sizes, train_scores, test_scores = learning_curve(estimator=model,\n",
        "                                                        X=X,\n",
        "                                                        y=y,\n",
        "                                                        cv=cv,\n",
        "                                                        train_sizes=train_sizes,\n",
        "                                                        scoring='accuracy')\n",
        "\n",
        "train_scores_means = train_scores.mean(axis=1)\n",
        "train_scores_stds = train_scores.std(axis=1)\n",
        "test_scores_means = test_scores.mean(axis=1)\n",
        "test_scores_stds = test_scores.std(axis=1)\n",
        "\n",
        "plt.figure(figsize=(10, 4))    \n",
        "plt.fill_between(train_sizes,\n",
        "                train_scores_means - train_scores_stds,\n",
        "                 train_scores_means + train_scores_stds,\n",
        "                 color='b', alpha=0.2)\n",
        "plt.plot(train_sizes, train_scores_means)\n",
        "plt.fill_between(train_sizes,\n",
        "                test_scores_means - test_scores_stds,\n",
        "                 test_scores_means + test_scores_stds,\n",
        "                 color='r', alpha=0.2)\n",
        "plt.plot(train_sizes, test_scores_means)\n",
        "plt.xlabel('x_size')\n",
        "plt.ylabel('accuracy')"
      ],
      "execution_count": 48,
      "outputs": [
        {
          "output_type": "execute_result",
          "data": {
            "text/plain": [
              "Text(0, 0.5, 'accuracy')"
            ]
          },
          "metadata": {},
          "execution_count": 48
        },
        {
          "output_type": "display_data",
          "data": {
            "image/png": "[encoded data removed]",
            "text/plain": [
              "<Figure size 720x288 with 1 Axes>"
            ]
          },
          "metadata": {
            "needs_background": "light"
          }
        }
      ]
    },
    {
      "cell_type": "code",
      "metadata": {
        "id": "9-s9Y3O9g7I7"
      },
      "source": [
        ""
      ],
      "execution_count": 50,
      "outputs": []
    },
    {
      "cell_type": "markdown",
      "metadata": {
        "id": "v1tkXJMkxXDw"
      },
      "source": [
        "# Grid Search"
      ]
    },
    {
      "cell_type": "code",
      "metadata": {
        "id": "sXKEkJIRxZgC"
      },
      "source": [
        "svm = SVC(C=1.0, kernel='rbf', probability=False)"
      ],
      "execution_count": 51,
      "outputs": []
    },
    {
      "cell_type": "code",
      "metadata": {
        "colab": {
          "base_uri": "https://localhost:8080/"
        },
        "id": "h536l2o9xcgJ",
        "outputId": "2a2258ea-2de3-45b4-a2c9-29a08117e733"
      },
      "source": [
        "from sklearn.model_selection import GridSearchCV\n",
        "parameters = {'C':(1, 10, 100),\n",
        "              'kernel':('rbf', 'poly', 'sigmoid'),\n",
        "              'degree':(1,2,3),\n",
        "              'gamma':(0.1,1,1.0)} # , scoring='roc_auc'\n",
        "clf = GridSearchCV(svm, parameters, cv=cv, )\n",
        "clf.fit(X, y)\n",
        "clf.cv_results_['mean_test_score']"
      ],
      "execution_count": 52,
      "outputs": [
        {
          "output_type": "execute_result",
          "data": {
            "text/plain": [
              "array([0.86071429, 0.84821429, 0.84821429, 0.97321429, 0.87678571,\n",
              "       0.80714286, 0.97321429, 0.87678571, 0.80714286, 0.86071429,\n",
              "       0.69642857, 0.84821429, 0.97321429, 0.83392857, 0.80714286,\n",
              "       0.97321429, 0.83392857, 0.80714286, 0.86071429, 0.69642857,\n",
              "       0.84821429, 0.97321429, 0.80535714, 0.80714286, 0.97321429,\n",
              "       0.80535714, 0.80714286, 0.875     , 0.87678571, 0.87678571,\n",
              "       1.        , 0.87678571, 0.69642857, 1.        , 0.87678571,\n",
              "       0.69642857, 0.875     , 0.83392857, 0.87678571, 1.        ,\n",
              "       0.81964286, 0.69642857, 1.        , 0.81964286, 0.69642857,\n",
              "       0.875     , 0.83392857, 0.87678571, 1.        , 0.83214286,\n",
              "       0.69642857, 1.        , 0.83214286, 0.69642857, 0.93035714,\n",
              "       0.87678571, 0.77857143, 1.        , 0.86428571, 0.65357143,\n",
              "       1.        , 0.86428571, 0.65357143, 0.93035714, 0.83392857,\n",
              "       0.77857143, 1.        , 0.81964286, 0.65357143, 1.        ,\n",
              "       0.81964286, 0.65357143, 0.93035714, 0.84821429, 0.77857143,\n",
              "       1.        , 0.85892857, 0.65357143, 1.        , 0.85892857,\n",
              "       0.65357143])"
            ]
          },
          "metadata": {},
          "execution_count": 52
        }
      ]
    },
    {
      "cell_type": "code",
      "metadata": {
        "colab": {
          "base_uri": "https://localhost:8080/",
          "height": 1000
        },
        "id": "CPYnb_Twxeca",
        "outputId": "6b44d1d9-1aa6-4eb4-fd9f-8b3acffefce7"
      },
      "source": [
        "import pandas as pd\n",
        "pd.DataFrame(clf.cv_results_)"
      ],
      "execution_count": 53,
      "outputs": [
        {
          "output_type": "execute_result",
          "data": {
            "text/html": [
              "<div>\n",
              "<style scoped>\n",
              "    .dataframe tbody tr th:only-of-type {\n",
              "        vertical-align: middle;\n",
              "    }\n",
              "\n",
              "    .dataframe tbody tr th {\n",
              "        vertical-align: top;\n",
              "    }\n",
              "\n",
              "    .dataframe thead th {\n",
              "        text-align: right;\n",
              "    }\n",
              "</style>\n",
              "<table border=\"1\" class=\"dataframe\">\n",
              "  <thead>\n",
              "    <tr style=\"text-align: right;\">\n",
              "      <th></th>\n",
              "      <th>mean_fit_time</th>\n",
              "      <th>std_fit_time</th>\n",
              "      <th>mean_score_time</th>\n",
              "      <th>std_score_time</th>\n",
              "      <th>param_C</th>\n",
              "      <th>param_degree</th>\n",
              "      <th>param_gamma</th>\n",
              "      <th>param_kernel</th>\n",
              "      <th>params</th>\n",
              "      <th>split0_test_score</th>\n",
              "      <th>split1_test_score</th>\n",
              "      <th>split2_test_score</th>\n",
              "      <th>split3_test_score</th>\n",
              "      <th>split4_test_score</th>\n",
              "      <th>split5_test_score</th>\n",
              "      <th>split6_test_score</th>\n",
              "      <th>split7_test_score</th>\n",
              "      <th>split8_test_score</th>\n",
              "      <th>split9_test_score</th>\n",
              "      <th>mean_test_score</th>\n",
              "      <th>std_test_score</th>\n",
              "      <th>rank_test_score</th>\n",
              "    </tr>\n",
              "  </thead>\n",
              "  <tbody>\n",
              "    <tr>\n",
              "      <th>0</th>\n",
              "      <td>0.000674</td>\n",
              "      <td>0.000186</td>\n",
              "      <td>0.001519</td>\n",
              "      <td>0.002920</td>\n",
              "      <td>1</td>\n",
              "      <td>1</td>\n",
              "      <td>0.1</td>\n",
              "      <td>rbf</td>\n",
              "      <td>{'C': 1, 'degree': 1, 'gamma': 0.1, 'kernel': ...</td>\n",
              "      <td>0.875</td>\n",
              "      <td>0.875</td>\n",
              "      <td>1.000000</td>\n",
              "      <td>1.000000</td>\n",
              "      <td>1.000000</td>\n",
              "      <td>0.714286</td>\n",
              "      <td>0.857143</td>\n",
              "      <td>0.714286</td>\n",
              "      <td>0.714286</td>\n",
              "      <td>0.857143</td>\n",
              "      <td>0.860714</td>\n",
              "      <td>0.110887</td>\n",
              "      <td>36</td>\n",
              "    </tr>\n",
              "    <tr>\n",
              "      <th>1</th>\n",
              "      <td>0.000419</td>\n",
              "      <td>0.000016</td>\n",
              "      <td>0.000296</td>\n",
              "      <td>0.000013</td>\n",
              "      <td>1</td>\n",
              "      <td>1</td>\n",
              "      <td>0.1</td>\n",
              "      <td>poly</td>\n",
              "      <td>{'C': 1, 'degree': 1, 'gamma': 0.1, 'kernel': ...</td>\n",
              "      <td>0.750</td>\n",
              "      <td>0.875</td>\n",
              "      <td>1.000000</td>\n",
              "      <td>1.000000</td>\n",
              "      <td>1.000000</td>\n",
              "      <td>0.714286</td>\n",
              "      <td>0.857143</td>\n",
              "      <td>0.714286</td>\n",
              "      <td>0.714286</td>\n",
              "      <td>0.857143</td>\n",
              "      <td>0.848214</td>\n",
              "      <td>0.115521</td>\n",
              "      <td>41</td>\n",
              "    </tr>\n",
              "    <tr>\n",
              "      <th>2</th>\n",
              "      <td>0.000467</td>\n",
              "      <td>0.000025</td>\n",
              "      <td>0.000323</td>\n",
              "      <td>0.000049</td>\n",
              "      <td>1</td>\n",
              "      <td>1</td>\n",
              "      <td>0.1</td>\n",
              "      <td>sigmoid</td>\n",
              "      <td>{'C': 1, 'degree': 1, 'gamma': 0.1, 'kernel': ...</td>\n",
              "      <td>0.750</td>\n",
              "      <td>0.875</td>\n",
              "      <td>1.000000</td>\n",
              "      <td>1.000000</td>\n",
              "      <td>1.000000</td>\n",
              "      <td>0.571429</td>\n",
              "      <td>0.857143</td>\n",
              "      <td>0.714286</td>\n",
              "      <td>0.714286</td>\n",
              "      <td>1.000000</td>\n",
              "      <td>0.848214</td>\n",
              "      <td>0.146657</td>\n",
              "      <td>41</td>\n",
              "    </tr>\n",
              "    <tr>\n",
              "      <th>3</th>\n",
              "      <td>0.000460</td>\n",
              "      <td>0.000047</td>\n",
              "      <td>0.000304</td>\n",
              "      <td>0.000015</td>\n",
              "      <td>1</td>\n",
              "      <td>1</td>\n",
              "      <td>1</td>\n",
              "      <td>rbf</td>\n",
              "      <td>{'C': 1, 'degree': 1, 'gamma': 1, 'kernel': 'r...</td>\n",
              "      <td>1.000</td>\n",
              "      <td>0.875</td>\n",
              "      <td>1.000000</td>\n",
              "      <td>1.000000</td>\n",
              "      <td>1.000000</td>\n",
              "      <td>1.000000</td>\n",
              "      <td>1.000000</td>\n",
              "      <td>1.000000</td>\n",
              "      <td>0.857143</td>\n",
              "      <td>1.000000</td>\n",
              "      <td>0.973214</td>\n",
              "      <td>0.053720</td>\n",
              "      <td>13</td>\n",
              "    </tr>\n",
              "    <tr>\n",
              "      <th>4</th>\n",
              "      <td>0.000412</td>\n",
              "      <td>0.000015</td>\n",
              "      <td>0.000282</td>\n",
              "      <td>0.000010</td>\n",
              "      <td>1</td>\n",
              "      <td>1</td>\n",
              "      <td>1</td>\n",
              "      <td>poly</td>\n",
              "      <td>{'C': 1, 'degree': 1, 'gamma': 1, 'kernel': 'p...</td>\n",
              "      <td>0.750</td>\n",
              "      <td>0.875</td>\n",
              "      <td>0.857143</td>\n",
              "      <td>1.000000</td>\n",
              "      <td>1.000000</td>\n",
              "      <td>0.857143</td>\n",
              "      <td>0.857143</td>\n",
              "      <td>0.714286</td>\n",
              "      <td>0.857143</td>\n",
              "      <td>1.000000</td>\n",
              "      <td>0.876786</td>\n",
              "      <td>0.094643</td>\n",
              "      <td>22</td>\n",
              "    </tr>\n",
              "    <tr>\n",
              "      <th>...</th>\n",
              "      <td>...</td>\n",
              "      <td>...</td>\n",
              "      <td>...</td>\n",
              "      <td>...</td>\n",
              "      <td>...</td>\n",
              "      <td>...</td>\n",
              "      <td>...</td>\n",
              "      <td>...</td>\n",
              "      <td>...</td>\n",
              "      <td>...</td>\n",
              "      <td>...</td>\n",
              "      <td>...</td>\n",
              "      <td>...</td>\n",
              "      <td>...</td>\n",
              "      <td>...</td>\n",
              "      <td>...</td>\n",
              "      <td>...</td>\n",
              "      <td>...</td>\n",
              "      <td>...</td>\n",
              "      <td>...</td>\n",
              "      <td>...</td>\n",
              "      <td>...</td>\n",
              "    </tr>\n",
              "    <tr>\n",
              "      <th>76</th>\n",
              "      <td>0.002626</td>\n",
              "      <td>0.001102</td>\n",
              "      <td>0.000307</td>\n",
              "      <td>0.000024</td>\n",
              "      <td>100</td>\n",
              "      <td>3</td>\n",
              "      <td>1</td>\n",
              "      <td>poly</td>\n",
              "      <td>{'C': 100, 'degree': 3, 'gamma': 1, 'kernel': ...</td>\n",
              "      <td>1.000</td>\n",
              "      <td>0.875</td>\n",
              "      <td>0.857143</td>\n",
              "      <td>0.857143</td>\n",
              "      <td>1.000000</td>\n",
              "      <td>0.714286</td>\n",
              "      <td>0.714286</td>\n",
              "      <td>1.000000</td>\n",
              "      <td>0.714286</td>\n",
              "      <td>0.857143</td>\n",
              "      <td>0.858929</td>\n",
              "      <td>0.110786</td>\n",
              "      <td>39</td>\n",
              "    </tr>\n",
              "    <tr>\n",
              "      <th>77</th>\n",
              "      <td>0.000437</td>\n",
              "      <td>0.000015</td>\n",
              "      <td>0.000285</td>\n",
              "      <td>0.000011</td>\n",
              "      <td>100</td>\n",
              "      <td>3</td>\n",
              "      <td>1</td>\n",
              "      <td>sigmoid</td>\n",
              "      <td>{'C': 100, 'degree': 3, 'gamma': 1, 'kernel': ...</td>\n",
              "      <td>0.625</td>\n",
              "      <td>0.625</td>\n",
              "      <td>0.714286</td>\n",
              "      <td>0.857143</td>\n",
              "      <td>0.714286</td>\n",
              "      <td>0.571429</td>\n",
              "      <td>0.571429</td>\n",
              "      <td>0.428571</td>\n",
              "      <td>0.857143</td>\n",
              "      <td>0.571429</td>\n",
              "      <td>0.653571</td>\n",
              "      <td>0.127576</td>\n",
              "      <td>76</td>\n",
              "    </tr>\n",
              "    <tr>\n",
              "      <th>78</th>\n",
              "      <td>0.000430</td>\n",
              "      <td>0.000060</td>\n",
              "      <td>0.000284</td>\n",
              "      <td>0.000011</td>\n",
              "      <td>100</td>\n",
              "      <td>3</td>\n",
              "      <td>1</td>\n",
              "      <td>rbf</td>\n",
              "      <td>{'C': 100, 'degree': 3, 'gamma': 1.0, 'kernel'...</td>\n",
              "      <td>1.000</td>\n",
              "      <td>1.000</td>\n",
              "      <td>1.000000</td>\n",
              "      <td>1.000000</td>\n",
              "      <td>1.000000</td>\n",
              "      <td>1.000000</td>\n",
              "      <td>1.000000</td>\n",
              "      <td>1.000000</td>\n",
              "      <td>1.000000</td>\n",
              "      <td>1.000000</td>\n",
              "      <td>1.000000</td>\n",
              "      <td>0.000000</td>\n",
              "      <td>1</td>\n",
              "    </tr>\n",
              "    <tr>\n",
              "      <th>79</th>\n",
              "      <td>0.002747</td>\n",
              "      <td>0.001185</td>\n",
              "      <td>0.000311</td>\n",
              "      <td>0.000013</td>\n",
              "      <td>100</td>\n",
              "      <td>3</td>\n",
              "      <td>1</td>\n",
              "      <td>poly</td>\n",
              "      <td>{'C': 100, 'degree': 3, 'gamma': 1.0, 'kernel'...</td>\n",
              "      <td>1.000</td>\n",
              "      <td>0.875</td>\n",
              "      <td>0.857143</td>\n",
              "      <td>0.857143</td>\n",
              "      <td>1.000000</td>\n",
              "      <td>0.714286</td>\n",
              "      <td>0.714286</td>\n",
              "      <td>1.000000</td>\n",
              "      <td>0.714286</td>\n",
              "      <td>0.857143</td>\n",
              "      <td>0.858929</td>\n",
              "      <td>0.110786</td>\n",
              "      <td>39</td>\n",
              "    </tr>\n",
              "    <tr>\n",
              "      <th>80</th>\n",
              "      <td>0.000447</td>\n",
              "      <td>0.000030</td>\n",
              "      <td>0.000288</td>\n",
              "      <td>0.000011</td>\n",
              "      <td>100</td>\n",
              "      <td>3</td>\n",
              "      <td>1</td>\n",
              "      <td>sigmoid</td>\n",
              "      <td>{'C': 100, 'degree': 3, 'gamma': 1.0, 'kernel'...</td>\n",
              "      <td>0.625</td>\n",
              "      <td>0.625</td>\n",
              "      <td>0.714286</td>\n",
              "      <td>0.857143</td>\n",
              "      <td>0.714286</td>\n",
              "      <td>0.571429</td>\n",
              "      <td>0.571429</td>\n",
              "      <td>0.428571</td>\n",
              "      <td>0.857143</td>\n",
              "      <td>0.571429</td>\n",
              "      <td>0.653571</td>\n",
              "      <td>0.127576</td>\n",
              "      <td>76</td>\n",
              "    </tr>\n",
              "  </tbody>\n",
              "</table>\n",
              "<p>81 rows × 22 columns</p>\n",
              "</div>"
            ],
            "text/plain": [
              "    mean_fit_time  std_fit_time  mean_score_time  std_score_time param_C  \\\n",
              "0        0.000674      0.000186         0.001519        0.002920       1   \n",
              "1        0.000419      0.000016         0.000296        0.000013       1   \n",
              "2        0.000467      0.000025         0.000323        0.000049       1   \n",
              "3        0.000460      0.000047         0.000304        0.000015       1   \n",
              "4        0.000412      0.000015         0.000282        0.000010       1   \n",
              "..            ...           ...              ...             ...     ...   \n",
              "76       0.002626      0.001102         0.000307        0.000024     100   \n",
              "77       0.000437      0.000015         0.000285        0.000011     100   \n",
              "78       0.000430      0.000060         0.000284        0.000011     100   \n",
              "79       0.002747      0.001185         0.000311        0.000013     100   \n",
              "80       0.000447      0.000030         0.000288        0.000011     100   \n",
              "\n",
              "   param_degree param_gamma param_kernel  \\\n",
              "0             1         0.1          rbf   \n",
              "1             1         0.1         poly   \n",
              "2             1         0.1      sigmoid   \n",
              "3             1           1          rbf   \n",
              "4             1           1         poly   \n",
              "..          ...         ...          ...   \n",
              "76            3           1         poly   \n",
              "77            3           1      sigmoid   \n",
              "78            3           1          rbf   \n",
              "79            3           1         poly   \n",
              "80            3           1      sigmoid   \n",
              "\n",
              "                                               params  split0_test_score  \\\n",
              "0   {'C': 1, 'degree': 1, 'gamma': 0.1, 'kernel': ...              0.875   \n",
              "1   {'C': 1, 'degree': 1, 'gamma': 0.1, 'kernel': ...              0.750   \n",
              "2   {'C': 1, 'degree': 1, 'gamma': 0.1, 'kernel': ...              0.750   \n",
              "3   {'C': 1, 'degree': 1, 'gamma': 1, 'kernel': 'r...              1.000   \n",
              "4   {'C': 1, 'degree': 1, 'gamma': 1, 'kernel': 'p...              0.750   \n",
              "..                                                ...                ...   \n",
              "76  {'C': 100, 'degree': 3, 'gamma': 1, 'kernel': ...              1.000   \n",
              "77  {'C': 100, 'degree': 3, 'gamma': 1, 'kernel': ...              0.625   \n",
              "78  {'C': 100, 'degree': 3, 'gamma': 1.0, 'kernel'...              1.000   \n",
              "79  {'C': 100, 'degree': 3, 'gamma': 1.0, 'kernel'...              1.000   \n",
              "80  {'C': 100, 'degree': 3, 'gamma': 1.0, 'kernel'...              0.625   \n",
              "\n",
              "    split1_test_score  split2_test_score  split3_test_score  \\\n",
              "0               0.875           1.000000           1.000000   \n",
              "1               0.875           1.000000           1.000000   \n",
              "2               0.875           1.000000           1.000000   \n",
              "3               0.875           1.000000           1.000000   \n",
              "4               0.875           0.857143           1.000000   \n",
              "..                ...                ...                ...   \n",
              "76              0.875           0.857143           0.857143   \n",
              "77              0.625           0.714286           0.857143   \n",
              "78              1.000           1.000000           1.000000   \n",
              "79              0.875           0.857143           0.857143   \n",
              "80              0.625           0.714286           0.857143   \n",
              "\n",
              "    split4_test_score  split5_test_score  split6_test_score  \\\n",
              "0            1.000000           0.714286           0.857143   \n",
              "1            1.000000           0.714286           0.857143   \n",
              "2            1.000000           0.571429           0.857143   \n",
              "3            1.000000           1.000000           1.000000   \n",
              "4            1.000000           0.857143           0.857143   \n",
              "..                ...                ...                ...   \n",
              "76           1.000000           0.714286           0.714286   \n",
              "77           0.714286           0.571429           0.571429   \n",
              "78           1.000000           1.000000           1.000000   \n",
              "79           1.000000           0.714286           0.714286   \n",
              "80           0.714286           0.571429           0.571429   \n",
              "\n",
              "    split7_test_score  split8_test_score  split9_test_score  mean_test_score  \\\n",
              "0            0.714286           0.714286           0.857143         0.860714   \n",
              "1            0.714286           0.714286           0.857143         0.848214   \n",
              "2            0.714286           0.714286           1.000000         0.848214   \n",
              "3            1.000000           0.857143           1.000000         0.973214   \n",
              "4            0.714286           0.857143           1.000000         0.876786   \n",
              "..                ...                ...                ...              ...   \n",
              "76           1.000000           0.714286           0.857143         0.858929   \n",
              "77           0.428571           0.857143           0.571429         0.653571   \n",
              "78           1.000000           1.000000           1.000000         1.000000   \n",
              "79           1.000000           0.714286           0.857143         0.858929   \n",
              "80           0.428571           0.857143           0.571429         0.653571   \n",
              "\n",
              "    std_test_score  rank_test_score  \n",
              "0         0.110887               36  \n",
              "1         0.115521               41  \n",
              "2         0.146657               41  \n",
              "3         0.053720               13  \n",
              "4         0.094643               22  \n",
              "..             ...              ...  \n",
              "76        0.110786               39  \n",
              "77        0.127576               76  \n",
              "78        0.000000                1  \n",
              "79        0.110786               39  \n",
              "80        0.127576               76  \n",
              "\n",
              "[81 rows x 22 columns]"
            ]
          },
          "metadata": {},
          "execution_count": 53
        }
      ]
    }
  ]
}