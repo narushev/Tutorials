{
 "cells": [
  {
   "cell_type": "markdown",
   "metadata": {},
   "source": [
    "# язык программирования Python\n",
    "## часть II - ООП\n",
    "\n",
    "автор: **Дьяконов Александр www.dyakonov.org**\n",
    "\n",
    "**для поддержки курсов автора, в частности https://github.com/Dyakonov/IML**\n",
    "\n",
    "\n",
    "##### материал частично основан на...\n",
    "\n",
    "* *Bruce Eckel* **Python 3 Patterns, Recipes and Idioms**\n",
    "* *Никита Лесников* **Беглый обзор внутренностей Python** // slideshare\n",
    "* *Сергей Лебедев* **Лекции по языку Питон** // youtube, канал \"Computer Science Center\"\n",
    "* Learn X in Y minutes https://learnxinyminutes.com/docs/python/\n",
    "* *Дэн Бейдер* **Чистый Python. Тонкости программирования для профи**"
   ]
  },
  {
   "cell_type": "markdown",
   "metadata": {},
   "source": [
    "- Всё -  объекты\n",
    "- Программа = объекты, посылающе друг другу сообщения. \n",
    "- Объект имеет собственную часть памяти и может состоять из других объектов. \n",
    "- Объект имеет тип (класс): формализует действия объекта / над объеком"
   ]
  },
  {
   "cell_type": "code",
   "execution_count": 8,
   "metadata": {},
   "outputs": [
    {
     "name": "stdout",
     "output_type": "stream",
     "text": [
      "3.5\n",
      "NotImplemented\n"
     ]
    }
   ],
   "source": [
    "a = 1\n",
    "b = 2.5\n",
    "print (a + b)\n",
    "print (a.__add__(b)) # НЕ РАБОТАЕТ"
   ]
  },
  {
   "cell_type": "code",
   "execution_count": 34,
   "metadata": {},
   "outputs": [
    {
     "name": "stdout",
     "output_type": "stream",
     "text": [
      "1578102544 73531656\n",
      "1578102576 73531656\n"
     ]
    }
   ],
   "source": [
    "# в Python всё - объекты. Имеют id и значение\n",
    "a = 1\n",
    "b = [1, 2]\n",
    "print (id(a), id(b))\n",
    "a = a + 1\n",
    "b.append(3) # id не изменится\n",
    "print (id(a), id(b))\n",
    "del a # удаление объекта\n",
    "# a # будет ошибка"
   ]
  },
  {
   "cell_type": "code",
   "execution_count": 21,
   "metadata": {},
   "outputs": [
    {
     "name": "stdout",
     "output_type": "stream",
     "text": [
      "{1, 2, 3, 4}; {(1, 2), (1, 3), (3, 4)}\n"
     ]
    }
   ],
   "source": [
    "# определение класса\n",
    "# первый аргумент всех методов - экземпляр класса\n",
    "\n",
    "class MyGraph:\n",
    "    def __init__(self, V, E): # конструктор (деструктор - __del__)\n",
    "        self.vertices = set(V)\n",
    "        self.edges = set(E)\n",
    "    def add_vertex(self, v): # метод - функция, объявленная в теле класса\n",
    "        self.vertices.add(v)\n",
    "    def add_edge(self, e):\n",
    "        self.vertices.add(e[0])\n",
    "        self.vertices.add(e[1])\n",
    "        self.edges.add(e)\n",
    "    def __str__(self): # представление в виде строки\n",
    "        return (\"%s; %s\" % (self.vertices, self.edges))\n",
    "\n",
    "g = MyGraph([1,2,3], [(1,2), (1,3)])\n",
    "g.add_edge((3,4))\n",
    "print (g)"
   ]
  },
  {
   "cell_type": "code",
   "execution_count": 22,
   "metadata": {},
   "outputs": [
    {
     "name": "stdout",
     "output_type": "stream",
     "text": [
      "{1, 2, 3, 4}\n",
      "{1, 2, 3, 4}\n",
      "{1, 2, 3, 4, 5}; {(1, 2), (1, 3), (3, 4)}\n"
     ]
    }
   ],
   "source": [
    "print (g.vertices)\n",
    "print (g.__getattribute__('vertices'))\n",
    "g.__setattr__('vertices', set([1,2,3,4,5]))\n",
    "print (g)"
   ]
  },
  {
   "cell_type": "code",
   "execution_count": 1,
   "metadata": {},
   "outputs": [
    {
     "name": "stdout",
     "output_type": "stream",
     "text": [
      "['_X__c', '__doc__', '__module__', '_b', 'a']\n",
      "{'a': 0, '__module__': '__main__', '_X__c': 2, '_b': 1, '__doc__': None}\n"
     ]
    }
   ],
   "source": [
    "class X:\n",
    "    a = 0 # обычный атрибут\n",
    "    _b = 1 # не желательно пользоваться, но доступен\n",
    "    __c = 2 # доступен под другим именем ('_X__c')\n",
    "print (dir(X))\n",
    "print (X.__dict__) # все атрибуты в виде словаря"
   ]
  },
  {
   "cell_type": "code",
   "execution_count": 1,
   "metadata": {},
   "outputs": [
    {
     "name": "stdout",
     "output_type": "stream",
     "text": [
      "3\n",
      "(<class '__main__.C'>, <class '__main__.A'>, <class '__main__.B'>, <class 'object'>)\n"
     ]
    }
   ],
   "source": [
    "# множественное наследование\n",
    "class A:\n",
    "    def make(self, x):\n",
    "        print(x+1)\n",
    "class B:\n",
    "    def make(self, x):\n",
    "        print(x-1)\n",
    "class C(A, B):\n",
    "    pass\n",
    "\n",
    "c = C()\n",
    "c.make(2)\n",
    "print (C.__mro__) # в таком порядке ищутся методы"
   ]
  },
  {
   "cell_type": "code",
   "execution_count": 6,
   "metadata": {},
   "outputs": [],
   "source": [
    "# класс\n",
    "class Human(object):\n",
    "\n",
    "    species = \"H. sapiens\" # атрибут\n",
    "\n",
    "    # инициализатор\n",
    "    # когда класс инициализируется\n",
    "    def __init__(self, name): \n",
    "        self.name = name # инициализация атрибута\n",
    "        self.age = 0  # инициализация свойства\n",
    "\n",
    "\n",
    "    # метод класса, первый аргумент - self\n",
    "    def say(self, msg):\n",
    "        return \"{0}: {1}\".format(self.name, msg)\n",
    "\n",
    "    # общий метод для всех экземпляров\n",
    "    # первый аргумент - кто вызвал\n",
    "    @classmethod\n",
    "    def get_species(cls):\n",
    "        return cls.species\n",
    "\n",
    "    # вызывается без ссылки на вызвавшего\n",
    "    @staticmethod\n",
    "    def grunt():\n",
    "        return \"статика...\"\n",
    "\n",
    "    # свойство - превращает метод в атрибут\n",
    "    @property\n",
    "    def age(self):\n",
    "        return self._age\n",
    "\n",
    "    # для присваивания свойству\n",
    "    @age.setter\n",
    "    def age(self, age):\n",
    "        self._age = age\n",
    "\n",
    "    # для удаления свойства\n",
    "    @age.deleter\n",
    "    def age(self):\n",
    "        del self._age"
   ]
  },
  {
   "cell_type": "code",
   "execution_count": 7,
   "metadata": {},
   "outputs": [
    {
     "name": "stdout",
     "output_type": "stream",
     "text": [
      "Иван: привет\n",
      "Сергей: пока\n",
      "H. sapiens\n",
      "H. neanderthalensis H. neanderthalensis\n",
      "H. neanderthalensis H. neanderthalensis\n",
      "статика...\n",
      "42\n"
     ]
    }
   ],
   "source": [
    "# инициализация\n",
    "i = Human(name=\"Иван\")\n",
    "print (i.say(\"привет\"))\n",
    "\n",
    "\n",
    "j = Human(\"Сергей\")\n",
    "print (j.say(\"пока\"))\n",
    "\n",
    "\n",
    "print (i.get_species())\n",
    "\n",
    "\n",
    "# меняем атрибут общий - для всего класса\n",
    "Human.species = \"H. neanderthalensis\"\n",
    "print (i.get_species(), i.species)\n",
    "print (j.get_species(), j.species)\n",
    "\n",
    "\n",
    "\n",
    "print (Human.grunt()) # статический метод\n",
    "\n",
    "\n",
    "i.age = 42 # свойство\n",
    "print (i.age)\n",
    "del i.age\n",
    "# i.age  # будет исключение\n"
   ]
  },
  {
   "cell_type": "code",
   "execution_count": 5,
   "metadata": {},
   "outputs": [
    {
     "data": {
      "text/plain": [
       "4"
      ]
     },
     "execution_count": 5,
     "metadata": {},
     "output_type": "execute_result"
    }
   ],
   "source": [
    "class Myclass:\n",
    "    __slots__ = ['name1', 'name2'] # указываем ВСЕ возможные атрибуты\n",
    "    \n",
    "# -- занимает меньше памяти\n",
    "    \n",
    "c = Myclass()\n",
    "c.name1 = 10\n",
    "c.name2 = lambda x: x * x\n",
    "\n",
    "c.name2(2)\n",
    "\n",
    "#c.name3 = 20 # должна быть ошибка (в Python2 - нет)\n",
    "#c.name3"
   ]
  },
  {
   "cell_type": "code",
   "execution_count": 9,
   "metadata": {},
   "outputs": [
    {
     "name": "stdout",
     "output_type": "stream",
     "text": [
      "[1, 2]\n",
      "[3, 2]\n",
      "[3, 2]\n"
     ]
    }
   ],
   "source": [
    "a = [1, 2]\n",
    "b = a\n",
    "print (b)\n",
    "a[0] = 3\n",
    "print (b) # a и b идентичны\n",
    "del a\n",
    "print (b) # но b остаётся!"
   ]
  },
  {
   "cell_type": "code",
   "execution_count": 17,
   "metadata": {},
   "outputs": [
    {
     "name": "stdout",
     "output_type": "stream",
     "text": [
      "dict_values(['mac_greek', 'zlib_codec', 'iso8859_15', 'cp1255', 'iso8859_9', 'shift_jis', 'gb2312', 'cp500', 'cp1140', 'iso8859_8', 'hp_roman8', 'cp037', 'cp949', 'cp864', 'euc_kr', 'gbk', 'cp852', 'iso8859_7', 'cp037', 'latin_1', 'utf_7', 'cp860', 'cp1253', 'iso8859_5', 'cp1125', 'big5', 'shift_jis_2004', 'cp850', 'utf_16_be', 'cp932', 'utf_8', 'iso2022_jp', 'iso8859_16', 'cp500', 'utf_8', 'ascii', 'iso8859_14', 'latin_1', 'base64_codec', 'gb2312', 'cp949', 'hp_roman8', 'euc_jis_2004', 'cp1258', 'quopri_codec', 'uu_codec', 'mac_turkish', 'euc_kr', 'iso8859_14', 'rot_13', 'euc_jp', 'cp1254', 'iso8859_8', 'cp1253', 'ptcp154', 'cp273', 'iso8859_14', 'cp1125', 'iso8859_14', 'cp424', 'big5hkscs', 'cp500', 'iso8859_2', 'cp437', 'hz', 'gbk', 'euc_jp', 'cp852', 'iso2022_jp_ext', 'euc_kr', 'iso8859_15', 'utf_7', 'utf_8', 'cp850', 'shift_jisx0213', 'euc_kr', 'cp437', 'iso8859_11', 'cp855', 'cp861', 'latin_1', 'cp1026', 'cp273', 'iso8859_16', 'shift_jis', 'cp932', 'iso8859_8', 'cp865', 'tis_620', 'iso8859_6', 'cp866', 'utf_8', 'iso8859_13', 'iso8859_16', 'iso8859_14', 'iso2022_jp_1', 'mac_iceland', 'iso8859_6', 'johab', 'iso8859_9', 'cp424', 'cp273', 'iso2022_jp_2004', 'ascii', 'utf_16_le', 'iso2022_jp_1', 'cp857', 'cp950', 'utf_32_le', 'cp1252', 'iso8859_3', 'cp037', 'gb2312', 'hz', 'cp1250', 'utf_16_le', 'iso8859_2', 'cp855', 'iso8859_7', 'iso8859_10', 'cp1256', 'iso8859_8', 'cp857', 'iso8859_14', 'cp437', 'iso8859_10', 'iso8859_2', 'iso8859_9', 'cp857', 'gb2312', 'iso8859_6', 'kz1048', 'iso8859_6', 'hex_codec', 'iso8859_7', 'euc_jis_2004', 'cp1125', 'cp869', 'zlib_codec', 'cp775', 'iso8859_3', 'iso8859_3', 'cp1257', 'iso8859_4', 'iso2022_jp_2', 'kz1048', 'shift_jis', 'cp1255', 'cp1254', 'iso8859_10', 'iso8859_10', 'cp424', 'iso8859_8', 'cp775', 'tis_620', 'latin_1', 'iso8859_3', 'iso8859_5', 'mac_roman', 'kz1048', 'cp949', 'cp037', 'cp037', 'cp1250', 'iso2022_jp_3', 'gb2312', 'latin_1', 'cp424', 'tis_620', 'euc_kr', 'ascii', 'iso8859_13', 'euc_jis_2004', 'iso8859_10', 'cp850', 'utf_16_be', 'ascii', 'iso8859_4', 'ptcp154', 'iso8859_4', 'iso8859_16', 'cp862', 'euc_jisx0213', 'iso8859_7', 'ascii', 'iso2022_kr', 'cp864', 'tis_620', 'utf_32_be', 'cp500', 'latin_1', 'big5', 'ascii', 'iso2022_jp_2004', 'cp037', 'iso2022_jp_2', 'iso8859_11', 'iso2022_jp_ext', 'big5', 'iso8859_9', 'cp1026', 'gb2312', 'cp862', 'cp861', 'latin_1', 'cp866', 'iso2022_jp', 'cp500', 'shift_jis_2004', 'cp860', 'cp950', 'koi8_r', 'cp1251', 'cp863', 'cp852', 'latin_1', 'gb2312', 'cp858', 'euc_kr', 'gb18030', 'cp932', 'utf_8', 'cp1125', 'cp037', 'base64_codec', 'ptcp154', 'cp1251', 'cp869', 'cp860', 'cp858', 'ptcp154', 'cp1256', 'iso8859_4', 'gb2312', 'iso8859_2', 'iso8859_9', 'quopri_codec', 'bz2_codec', 'cp865', 'johab', 'ascii', 'ascii', 'cp1258', 'mac_latin2', 'iso2022_kr', 'cp037', 'utf_7', 'mac_cyrillic', 'iso8859_9', 'cp861', 'iso8859_10', 'iso8859_5', 'utf_16', 'latin_1', 'iso8859_15', 'latin_1', 'cp863', 'iso8859_2', 'iso8859_6', 'utf_32', 'iso2022_jp', 'cp869', 'ascii', 'iso8859_4', 'cp864', 'cp863', 'cp862', 'gb2312', 'cp861', 'cp932', 'cp855', 'utf_32', 'ascii', 'mac_roman', 'quopri_codec', 'iso8859_6', 'ascii', 'iso8859_11', 'mac_latin2', 'euc_kr', 'cp869', 'iso8859_2', 'cp866', 'iso8859_4', 'ascii', 'shift_jisx0213', 'shift_jisx0213', 'cp1140', 'utf_16', 'iso8859_5', 'cp858', 'iso8859_5', 'shift_jis', 'mbcs', 'iso2022_jp_3', 'iso8859_7', 'cp1257', 'hz', 'iso8859_7', 'iso8859_6', 'big5hkscs', 'tis_620', 'cp865', 'tactis', 'iso2022_kr', 'euc_kr', 'hp_roman8', 'shift_jis', 'cp1026', 'iso8859_3', 'latin_1', 'iso8859_16', 'iso8859_3', 'euc_jp', 'shift_jis_2004', 'iso8859_7', 'cp775', 'latin_1', 'gbk', 'cp1252', 'iso8859_7', 'iso8859_13'])\n"
     ]
    }
   ],
   "source": [
    "# чтобы Unicode-литералы правильно воспринимались интерпретатором, в начале программы укажите\n",
    "# -*- coding: koi8 -r -*-\n",
    "# -*- coding: cp1251 -*-\n",
    "# 2я запись - в Win\n",
    "\n",
    "import encodings.aliases\n",
    "print (encodings.aliases.aliases.values()) # возможные кодировки"
   ]
  },
  {
   "cell_type": "code",
   "execution_count": 17,
   "metadata": {},
   "outputs": [
    {
     "name": "stdout",
     "output_type": "stream",
     "text": [
      "First  создан, счётчик = 1\n",
      "Second  создан, счётчик = 2\n",
      "First удалён, счётчик =  1\n",
      "Third  создан, счётчик = 2\n",
      "Third удалён, счётчик =  1\n"
     ]
    }
   ],
   "source": [
    "# подсчёт числа объектов соответствующего класса\n",
    "\n",
    "class Counter:\n",
    "    Count = 0 # счётчик\n",
    "    \n",
    "    def __init__(self, name): # внимание к отступам\n",
    "        self.name = name # обращение через self\n",
    "        Counter.Count += 1\n",
    "        print (name, ' создан, счётчик =', Counter.Count)\n",
    "        # Counter.Count - у класса, а не объекта!\n",
    "        \n",
    "    def __del__(self):\n",
    "        Counter.Count -= 1\n",
    "        print (self.name, 'удалён, счётчик = ', Counter.Count)\n",
    "        if Counter.Count == 0:\n",
    "            print ('Больше объектов нет...')\n",
    "        \n",
    "x = Counter(\"First\")\n",
    "y = Counter(\"Second\")\n",
    "del x\n",
    "z = Counter(\"Third\")\n",
    "del z\n",
    "\n",
    "# если запустить второй раз - какая-то ерунда..."
   ]
  },
  {
   "cell_type": "code",
   "execution_count": 16,
   "metadata": {},
   "outputs": [],
   "source": [
    "# del x\n",
    "# del y\n",
    "del Counter"
   ]
  },
  {
   "cell_type": "markdown",
   "metadata": {},
   "source": [
    "## Метаклассы\n",
    "\n",
    "Метакласс - класс для создания других классов (его экземпляры тоже классы)\n",
    "\n",
    "Пример - класс **type** (все классы это его экземпляры)\n",
    "\n",
    "**зачем нужны** (не будем)\n",
    "- изменение поведения классов\n",
    "- сохраняются при наследовании\n",
    "- временно подменяют --dict-- (?)"
   ]
  },
  {
   "cell_type": "code",
   "execution_count": 14,
   "metadata": {},
   "outputs": [
    {
     "name": "stdout",
     "output_type": "stream",
     "text": [
      "<class 'type'>\n",
      "<class 'type'>\n"
     ]
    }
   ],
   "source": [
    "class Anyclass:\n",
    "    x = 10\n",
    "\n",
    "print (type(Anyclass))\n",
    "\n",
    "class Nextclass(Anyclass): # Python 3 (metaclass = Anyclass):\n",
    "    y = 20\n",
    "    \n",
    "print (type(Nextclass))"
   ]
  },
  {
   "cell_type": "code",
   "execution_count": 8,
   "metadata": {
    "collapsed": true
   },
   "outputs": [],
   "source": [
    "class C: pass\n",
    "# эквивалентная запись:\n",
    "С = type('C', (), {})\n",
    "\n",
    "# type - дефолтный метакласс для создания классов"
   ]
  },
  {
   "cell_type": "code",
   "execution_count": 11,
   "metadata": {},
   "outputs": [
    {
     "name": "stdout",
     "output_type": "stream",
     "text": [
      "список:  ['one', 'two']\n"
     ]
    }
   ],
   "source": [
    "def myprint(self):\n",
    "    print(\"список: \", self)\n",
    "\n",
    "# такой способ создания класса    \n",
    "MyList = type('MyList', (list,), dict(x=10, myprint=myprint))\n",
    "\n",
    "\n",
    "ml = MyList()\n",
    "ml.append(\"one\")\n",
    "ml.append(\"two\")\n",
    "ml.myprint()"
   ]
  },
  {
   "cell_type": "code",
   "execution_count": 13,
   "metadata": {},
   "outputs": [
    {
     "name": "stdout",
     "output_type": "stream",
     "text": [
      "10 Привет, мир! 5 Пока, мир!\n"
     ]
    }
   ],
   "source": [
    "class MyClass: pass\n",
    "# это класс!\n",
    "MyClass.field = 10\n",
    "MyClass.method = lambda x: \"Привет, мир!\"\n",
    "\n",
    "x = MyClass()\n",
    "x.field2 = 5\n",
    "x.method2 = lambda x: \"Пока, мир!\"\n",
    "\n",
    "print (x.field, x.method(), x.field2,  x.method2(None))\n",
    "# x.method2 - нужен аргумент"
   ]
  },
  {
   "cell_type": "code",
   "execution_count": 10,
   "metadata": {},
   "outputs": [
    {
     "name": "stdout",
     "output_type": "stream",
     "text": [
      "5 5\n"
     ]
    }
   ],
   "source": [
    "# есть атрибуты экземпляра\n",
    "# а есть атрибуты класса\n",
    "\n",
    "class MyClass: pass\n",
    "\n",
    "MyClass.field = 10\n",
    "x = MyClass()\n",
    "y = MyClass()\n",
    "MyClass.field = 5 # модификация произойдёт во всех объектах\n",
    "\n",
    "print (x.field, y.field)"
   ]
  },
  {
   "cell_type": "code",
   "execution_count": 26,
   "metadata": {},
   "outputs": [],
   "source": [
    "# много ещё чего про метаклассы - не стал писать"
   ]
  },
  {
   "cell_type": "code",
   "execution_count": 2,
   "metadata": {},
   "outputs": [
    {
     "data": {
      "text/plain": [
       "Path(./main/file.txt)"
      ]
     },
     "execution_count": 2,
     "metadata": {},
     "output_type": "execute_result"
    }
   ],
   "source": [
    "# ???? - см. Python 3\n",
    "class Path:\n",
    "    def __init__(self, directory):\n",
    "        self.directory = directory\n",
    "        \n",
    "    def __repr__(self):\n",
    "        return \"Path({})\".format(self.directory)\n",
    "        \n",
    "    @property\n",
    "    def parent(self):\n",
    "        return Path(dirname(self.directory))\n",
    "    \n",
    "p = Path(\"./main/file.txt\")\n",
    "p"
   ]
  },
  {
   "cell_type": "code",
   "execution_count": 17,
   "metadata": {},
   "outputs": [
    {
     "name": "stdout",
     "output_type": "stream",
     "text": [
      "my_attr\n",
      "0\n",
      "val_other\n"
     ]
    }
   ],
   "source": [
    "class Myclass:\n",
    "    val = 0\n",
    "    def __getattr__(self, name): # __getattr__ - при вызове несуществующего атрибута\n",
    "        return name\n",
    "\n",
    "m = Myclass()\n",
    "print (m.my_attr)"
   ]
  },
  {
   "cell_type": "code",
   "execution_count": 31,
   "metadata": {},
   "outputs": [
    {
     "name": "stdout",
     "output_type": "stream",
     "text": [
      "2\n",
      "1.0\n"
     ]
    },
    {
     "data": {
      "text/plain": [
       "{'val': 2, 'val_other': 3.0}"
      ]
     },
     "execution_count": 31,
     "metadata": {},
     "output_type": "execute_result"
    }
   ],
   "source": [
    "class Myclass:\n",
    "    val = 0\n",
    "\n",
    "m = Myclass()\n",
    "\n",
    "setattr(m, \"val\", 2) # getattr - безопасное добавление атрибута\n",
    "# setattr(m, \"val_other\", 3.0) # m.val_other = 3.0 создастся новый атрибут\n",
    "print (getattr(m, \"val\")) # getattr - безопасный вызов атрибута\n",
    "print (getattr(m, \"val_some_other\", 1.0))\n",
    "\n",
    "m.__dict__"
   ]
  },
  {
   "cell_type": "code",
   "execution_count": 5,
   "metadata": {},
   "outputs": [
    {
     "name": "stdout",
     "output_type": "stream",
     "text": [
      "(1, 2)\n"
     ]
    }
   ],
   "source": [
    "class Vec:\n",
    "    def __init__(self, x=0.0, y=0.0):\n",
    "        self.x = x\n",
    "        self.y = y\n",
    "        \n",
    "    def __str__(self): # представление в виде строки\n",
    "        return (\"(%s, %s)\" % (self.x, self.y))\n",
    "\n",
    "x = Vec(1, 2)\n",
    "print (x)"
   ]
  },
  {
   "cell_type": "markdown",
   "metadata": {},
   "source": [
    "## Дескриптор\n",
    "\n",
    "-- атрибут объекта со скрытым поведеним, которое задают методы в протоколе дескриптора: __get__(), __set__(), and __delete__()"
   ]
  },
  {
   "cell_type": "code",
   "execution_count": 5,
   "metadata": {},
   "outputs": [
    {
     "name": "stdout",
     "output_type": "stream",
     "text": [
      "Выдаём var \"x\"\n",
      "11\n",
      "Получаем var \"x\"\n",
      "Выдаём var \"x\"\n",
      "21\n",
      "Получаем var \"x\"\n",
      "Отрицательное значение - будет обнулено\n",
      "Выдаём var \"x\"\n",
      "1\n",
      "5\n"
     ]
    }
   ],
   "source": [
    "class RevealAccess(object):\n",
    "    \"\"\"Пример дескриптора данных:\n",
    "       устанавливает и возвращает значения,\n",
    "       а также пишет сообщения\n",
    "    \"\"\"\n",
    "\n",
    "    def __init__(self, initval=None, name='var'):\n",
    "        self.val = initval\n",
    "        self.name = name\n",
    "\n",
    "    def __get__(self, obj, objtype):\n",
    "        print('Выдаём', self.name)\n",
    "        return (self.val + 1) # выдаёт следующее число\n",
    "\n",
    "    def __set__(self, obj, val):\n",
    "        print('Получаем', self.name)\n",
    "        if val<0:\n",
    "            print('Отрицательное значение - будет обнулено')\n",
    "            self.val = 0\n",
    "        else:\n",
    "            self.val = val\n",
    "\n",
    "class MyClass(object):\n",
    "    x = RevealAccess(10, 'var \"x\"') # у переменное скрытое поведение\n",
    "    y = 5\n",
    "    \n",
    "    \n",
    "m = MyClass()\n",
    "print (m.x)\n",
    "\n",
    "m.x = 20\n",
    "print (m.x)\n",
    "m.x = -20\n",
    "print (m.x)\n",
    "\n",
    "\n",
    "print(m.y)"
   ]
  },
  {
   "cell_type": "code",
   "execution_count": 6,
   "metadata": {
    "collapsed": true
   },
   "outputs": [],
   "source": [
    "# свойства в Питоне - \"быстрый\" дескриптор\n",
    "\n",
    "# \"безопасный класс\"\n",
    "# контролирует значения атрибутов\n",
    "\n",
    "class SafeClass:\n",
    "    def _get_attr(self):\n",
    "        return self._x\n",
    "        \n",
    "    def _set_attr(self, x):\n",
    "        assert x > 0, \"необходимо положительное значение\"\n",
    "        self._x = x\n",
    "        \n",
    "    def _del_attr(self):\n",
    "        del self._x\n",
    "        \n",
    "    x = property(_get_attr, _set_attr, _del_attr)\n",
    "        \n",
    "        \n",
    "safe = SafeClass()\n",
    "safe.x = 1\n",
    "# safe.x = -2 # будет исключение"
   ]
  },
  {
   "cell_type": "code",
   "execution_count": 13,
   "metadata": {},
   "outputs": [],
   "source": [
    "# ??? пока не понял - МОЖНО УДАЛИТЬ\n",
    "class NonNegative:\n",
    "    def _get_attr(self):\n",
    "        return self._x\n",
    "        \n",
    "    def _set_attr(self, x):\n",
    "        assert x > 0, \"необходимо положительное значение\"\n",
    "        self._x = x\n",
    "        \n",
    "    def _del_attr(self):\n",
    "        del self._x\n",
    "        \n",
    "class SafeClass2:\n",
    "    x = NonNegative()\n",
    "    y = NonNegative()"
   ]
  },
  {
   "cell_type": "code",
   "execution_count": 17,
   "metadata": {
    "collapsed": true
   },
   "outputs": [],
   "source": [
    "safe = SafeClass2()"
   ]
  },
  {
   "cell_type": "code",
   "execution_count": 18,
   "metadata": {},
   "outputs": [],
   "source": [
    "safe.x = -2"
   ]
  },
  {
   "cell_type": "code",
   "execution_count": 21,
   "metadata": {},
   "outputs": [],
   "source": [
    "safe.y = -2"
   ]
  },
  {
   "cell_type": "code",
   "execution_count": 23,
   "metadata": {
    "collapsed": true
   },
   "outputs": [],
   "source": [
    "class SafeClass2:\n",
    "    x = SafeClass()\n",
    "    y = SafeClass()"
   ]
  }
 ],
 "metadata": {
  "kernelspec": {
   "display_name": "Python 3",
   "language": "python",
   "name": "python3"
  },
  "language_info": {
   "codemirror_mode": {
    "name": "ipython",
    "version": 3
   },
   "file_extension": ".py",
   "mimetype": "text/x-python",
   "name": "python",
   "nbconvert_exporter": "python",
   "pygments_lexer": "ipython3",
   "version": "3.6.5"
  }
 },
 "nbformat": 4,
 "nbformat_minor": 1
}
