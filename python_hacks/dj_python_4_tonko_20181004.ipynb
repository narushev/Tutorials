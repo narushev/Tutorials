{
 "cells": [
  {
   "cell_type": "markdown",
   "metadata": {},
   "source": [
    "# язык программирования Python\n",
    "## часть IV - некоторые тонкости\n",
    "\n",
    "автор: **Дьяконов Александр www.dyakonov.org**\n",
    "\n",
    "**для поддержки курсов автора, в частности https://github.com/Dyakonov/IML**\n",
    "\n",
    "\n",
    "### материал основан на...\n",
    "книге ***Дэн Бейдер*** **Чистый Python. Тонкости программирования для профи**. Питер, 2018."
   ]
  },
  {
   "cell_type": "markdown",
   "metadata": {},
   "source": [
    "### assert\n",
    "\n",
    "Инструкции assert должны применяться только для того, чтобы помогать разработчикам идентифицировать ошибки. Они не являются механизмом обработки ошибок периода исполнения программы."
   ]
  },
  {
   "cell_type": "markdown",
   "metadata": {},
   "source": [
    "## типичная ошибка - пропущенная запятая"
   ]
  },
  {
   "cell_type": "code",
   "execution_count": 2,
   "metadata": {},
   "outputs": [
    {
     "data": {
      "text/plain": [
       "['Петя', 'МашаВася']"
      ]
     },
     "execution_count": 2,
     "metadata": {},
     "output_type": "execute_result"
    }
   ],
   "source": [
    "lst = ['Петя',\n",
    "      'Маша'\n",
    "      'Вася'\n",
    "      ]\n",
    "\n",
    "lst"
   ]
  },
  {
   "cell_type": "markdown",
   "metadata": {},
   "source": [
    "## менеджер контекста\n",
    "\n",
    "эквивалентные куски кода"
   ]
  },
  {
   "cell_type": "code",
   "execution_count": null,
   "metadata": {},
   "outputs": [],
   "source": [
    "with open('hello.txt', 'w') as f:\n",
    "    f.write('привет, мир!')\n",
    "\n",
    "\n",
    "f = open('hello.txt', 'w')\n",
    "try:\n",
    "    f.write('привет, мир!')\n",
    "finally:\n",
    "    f.close()"
   ]
  },
  {
   "cell_type": "code",
   "execution_count": 3,
   "metadata": {},
   "outputs": [
    {
     "name": "stdout",
     "output_type": "stream",
     "text": [
      " раз\n",
      "  два\n",
      "   три\n",
      " четыре\n"
     ]
    }
   ],
   "source": [
    "class Indenter:\n",
    "    def __init__(self):\n",
    "        self.level = 0\n",
    "    \n",
    "    def __enter__(self):\n",
    "        self.level += 1\n",
    "        return self\n",
    "    \n",
    "    def __exit__(self, exc_type, exc_val, exc_tb):\n",
    "        self.level -= 1\n",
    "    \n",
    "    def print(self, text):\n",
    "        print(' ' * self.level + text)\n",
    "        \n",
    "\n",
    "with Indenter() as indent:\n",
    "    indent.print('раз')\n",
    "    with indent:\n",
    "        indent.print('два')\n",
    "        with indent:\n",
    "            indent.print('три')\n",
    "    indent.print('четыре')"
   ]
  },
  {
   "cell_type": "markdown",
   "metadata": {},
   "source": [
    "## именования переменных\n",
    "\n",
    "\n",
    "\n",
    "«дандеры» (dunders — это сокращение от англ. double underscores)  - с двойным подчёркиванием"
   ]
  },
  {
   "cell_type": "code",
   "execution_count": null,
   "metadata": {},
   "outputs": [],
   "source": [
    "_var = 1 # для внутреннего пользования, не импортируются from my_module import *\n",
    "var_ = 1 # чтобы избежать конфликта имён\n",
    "__var = 1 # искажением имени (name mangling)\n",
    "__var__ = 1 # не будет искажения! Зарезервированы: __init__, __call__ и т.п.\n",
    "_ = 1 # неважное имя переменной (чаще при распаковке) часто: результат последнего выражения\n"
   ]
  },
  {
   "cell_type": "markdown",
   "metadata": {},
   "source": [
    "# форматирование строк"
   ]
  },
  {
   "cell_type": "code",
   "execution_count": 1,
   "metadata": {},
   "outputs": [
    {
     "name": "stdout",
     "output_type": "stream",
     "text": [
      "Привет, Иван\n",
      "Привет, Иван\n",
      "Привет, Иван\n",
      "Привет, Иван\n"
     ]
    }
   ],
   "source": [
    "name = 'Иван'\n",
    "print ('Привет, %s' % name)\n",
    "print ('Привет, {}'.format(name))\n",
    "print (f'Привет, {name}') # форматированные строковые литералы (Formatted String Literals).\n",
    "\n",
    "from string import Template\n",
    "print (Template('Привет, $name').substitute(name=name)) # шаблонные строки"
   ]
  },
  {
   "cell_type": "markdown",
   "metadata": {},
   "source": [
    "## лямбда-функции"
   ]
  },
  {
   "cell_type": "code",
   "execution_count": 7,
   "metadata": {},
   "outputs": [
    {
     "data": {
      "text/plain": [
       "3"
      ]
     },
     "execution_count": 7,
     "metadata": {},
     "output_type": "execute_result"
    }
   ],
   "source": [
    "(lambda x, y: x + y)(1, 2)"
   ]
  },
  {
   "cell_type": "code",
   "execution_count": 55,
   "metadata": {},
   "outputs": [
    {
     "name": "stdout",
     "output_type": "stream",
     "text": [
      "[(-2, 'MINUS TWO'), (-1, 'MINUS ONE'), (1, 'ONE'), (4, 'FOUR')]\n",
      "[(1, 'ONE'), (-1, 'MINUS ONE'), (-2, 'MINUS TWO'), (4, 'FOUR')]\n"
     ]
    }
   ],
   "source": [
    "tuples = [(1, 'ONE'), (4, 'FOUR'), (-1, 'MINUS ONE'), (-2, 'MINUS TWO')]\n",
    "\n",
    "print (sorted(tuples, key=lambda x: x[0]))  # так по умолчанию!\n",
    "print (sorted(tuples, key=lambda x: x[0]*x[0]))"
   ]
  },
  {
   "cell_type": "code",
   "execution_count": 60,
   "metadata": {},
   "outputs": [
    {
     "data": {
      "text/plain": [
       "[(-2, 'MINUS TWO'), (-1, 'MINUS ONE'), (1, 'ONE'), (4, 'FOUR')]"
      ]
     },
     "execution_count": 60,
     "metadata": {},
     "output_type": "execute_result"
    }
   ],
   "source": [
    "import operator\n",
    "sorted(tuples, key=operator.itemgetter(0))"
   ]
  },
  {
   "cell_type": "code",
   "execution_count": 11,
   "metadata": {},
   "outputs": [
    {
     "data": {
      "text/plain": [
       "[(-2, 'MINUS TWO'), (-1, 'MINUS ONE'), (1, 'ONE'), (4, 'FOUR')]"
      ]
     },
     "execution_count": 11,
     "metadata": {},
     "output_type": "execute_result"
    }
   ],
   "source": [
    "sorted(tuples)"
   ]
  },
  {
   "cell_type": "code",
   "execution_count": 13,
   "metadata": {},
   "outputs": [
    {
     "data": {
      "text/plain": [
       "[0, 2, 4, 6, 8, 10, 12, 14]"
      ]
     },
     "execution_count": 13,
     "metadata": {},
     "output_type": "execute_result"
    }
   ],
   "source": [
    "list(filter(lambda x: x % 2 == 0, range(16)))"
   ]
  },
  {
   "cell_type": "code",
   "execution_count": 14,
   "metadata": {},
   "outputs": [
    {
     "data": {
      "text/plain": [
       "[0, 2, 4, 6, 8, 10, 12, 14]"
      ]
     },
     "execution_count": 14,
     "metadata": {},
     "output_type": "execute_result"
    }
   ],
   "source": [
    "[x for x in range(16) if x % 2 == 0]"
   ]
  },
  {
   "cell_type": "code",
   "execution_count": 15,
   "metadata": {},
   "outputs": [
    {
     "name": "stdout",
     "output_type": "stream",
     "text": [
      "[(4, 'FOUR'), (-1, 'MINUS ONE'), (-2, 'MINUS TWO'), (1, 'ONE')]\n"
     ]
    }
   ],
   "source": [
    "tuples = [(1, 'ONE'), (4, 'FOUR'), (-1, 'MINUS ONE'), (-2, 'MINUS TWO')]\n",
    "\n",
    "print (sorted(tuples, key=lambda x: x[1]))  # так по умолчанию!"
   ]
  },
  {
   "cell_type": "markdown",
   "metadata": {},
   "source": [
    "# декораторы"
   ]
  },
  {
   "cell_type": "code",
   "execution_count": 24,
   "metadata": {},
   "outputs": [
    {
     "data": {
      "text/plain": [
       "'HELLO!'"
      ]
     },
     "execution_count": 24,
     "metadata": {},
     "output_type": "execute_result"
    }
   ],
   "source": [
    "def dec_upper(f):\n",
    "    return lambda: f().upper()\n",
    "\n",
    "def dec_lower(f):\n",
    "    return lambda: f().lower()\n",
    "\n",
    "@dec_upper\n",
    "@dec_lower\n",
    "def say():\n",
    "    return('Hello!') # ' + x + '\n",
    "\n",
    "say()"
   ]
  },
  {
   "cell_type": "code",
   "execution_count": 29,
   "metadata": {},
   "outputs": [
    {
     "data": {
      "text/plain": [
       "'HELLOMIKE!'"
      ]
     },
     "execution_count": 29,
     "metadata": {},
     "output_type": "execute_result"
    }
   ],
   "source": [
    "def dec_upper(f):\n",
    "    def g(*args, **kwargs):\n",
    "        return f(*args, **kwargs).upper()\n",
    "    return g\n",
    "\n",
    "def dec_lower(f):\n",
    "    def g(*args, **kwargs):\n",
    "        return f(*args, **kwargs).lower()\n",
    "    return g\n",
    "\n",
    "@dec_upper\n",
    "@dec_lower\n",
    "def say(x):\n",
    "    return('Hello' + x + '!') # ' + x + '\n",
    "\n",
    "say('Mike')"
   ]
  },
  {
   "cell_type": "markdown",
   "metadata": {},
   "source": [
    "## необязательные аргументы"
   ]
  },
  {
   "cell_type": "code",
   "execution_count": 21,
   "metadata": {},
   "outputs": [
    {
     "name": "stdout",
     "output_type": "stream",
     "text": [
      "()\n"
     ]
    }
   ],
   "source": [
    "def f(z, *x):\n",
    "    print (x)\n",
    "    \n",
    "f(1)"
   ]
  },
  {
   "cell_type": "markdown",
   "metadata": {},
   "source": [
    "# распаковка аргументов"
   ]
  },
  {
   "cell_type": "code",
   "execution_count": 33,
   "metadata": {},
   "outputs": [
    {
     "name": "stdout",
     "output_type": "stream",
     "text": [
      "<1, 2, 3>\n",
      "<4, 5, 6>\n",
      "<0, 1, 4>\n",
      "<y, z, x>\n",
      "<30, 10, 20>\n"
     ]
    }
   ],
   "source": [
    "def print_vec(x, y, z):\n",
    "    print('<%s, %s, %s>' % (x, y, z))\n",
    "    \n",
    "lst = [1, 2, 3]\n",
    "tpl = (4, 5, 6)\n",
    "gen = (i*i for i in range(3))\n",
    "\n",
    "print_vec(*lst)\n",
    "print_vec(*tpl)\n",
    "print_vec(*gen)\n",
    "\n",
    "\n",
    "dct = {'y': 10, 'z': 20, 'x': 30}\n",
    "print_vec(*dct)\n",
    "print_vec(**dct)"
   ]
  },
  {
   "cell_type": "markdown",
   "metadata": {},
   "source": [
    "## ООП"
   ]
  },
  {
   "cell_type": "code",
   "execution_count": 34,
   "metadata": {},
   "outputs": [
    {
     "data": {
      "text/plain": [
       "(False, False, True, False, [1, 2], None, [1, 2])"
      ]
     },
     "execution_count": 34,
     "metadata": {},
     "output_type": "execute_result"
    }
   ],
   "source": [
    "a = [1, 2]\n",
    "b = [1].append(2)\n",
    "c = [1, 2]\n",
    "\n",
    "a == b, a is b, a == c, a is c, a, b, c"
   ]
  },
  {
   "cell_type": "markdown",
   "metadata": {},
   "source": [
    "## что возвращает функция"
   ]
  },
  {
   "cell_type": "code",
   "execution_count": 35,
   "metadata": {},
   "outputs": [
    {
     "name": "stdout",
     "output_type": "stream",
     "text": [
      "None\n"
     ]
    }
   ],
   "source": [
    "def f(x, y):\n",
    "    z = x + y\n",
    "    \n",
    "print (f(1, 2))"
   ]
  },
  {
   "cell_type": "markdown",
   "metadata": {},
   "source": [
    "# описание функции"
   ]
  },
  {
   "cell_type": "code",
   "execution_count": 36,
   "metadata": {},
   "outputs": [
    {
     "name": "stdout",
     "output_type": "stream",
     "text": [
      "__str__ 2\n",
      "<class '__main__.MyClass'>\n",
      "Help on MyClass in module __main__ object:\n",
      "\n",
      "class MyClass(builtins.object)\n",
      " |  __comment__\n",
      " |  \n",
      " |  Methods defined here:\n",
      " |  \n",
      " |  __init__(self, var)\n",
      " |      Initialize self.  See help(type(self)) for accurate signature.\n",
      " |  \n",
      " |  __repr__(self)\n",
      " |      Return repr(self).\n",
      " |  \n",
      " |  __str__(self)\n",
      " |      Return str(self).\n",
      " |  \n",
      " |  ----------------------------------------------------------------------\n",
      " |  Data descriptors defined here:\n",
      " |  \n",
      " |  __dict__\n",
      " |      dictionary for instance variables (if defined)\n",
      " |  \n",
      " |  __weakref__\n",
      " |      list of weak references to the object (if defined)\n",
      "\n"
     ]
    },
    {
     "data": {
      "text/plain": [
       "__repr__ 2"
      ]
     },
     "execution_count": 36,
     "metadata": {},
     "output_type": "execute_result"
    }
   ],
   "source": [
    "class MyClass:\n",
    "    \"\"\"\n",
    "    __comment__\n",
    "    \"\"\"\n",
    "    def __init__(self, var):\n",
    "        self.var = var\n",
    "    def __repr__(self):\n",
    "        # для разработчиков\n",
    "        return '__repr__ %g' % self.var\n",
    "    def __str__(self):\n",
    "        # удобочитаемо\n",
    "        return '__str__ %g' % self.var\n",
    "\n",
    "mc = MyClass(2)\n",
    "print (mc)\n",
    "print (MyClass)\n",
    "help(mc)\n",
    "mc"
   ]
  },
  {
   "cell_type": "code",
   "execution_count": 37,
   "metadata": {},
   "outputs": [
    {
     "data": {
      "text/plain": [
       "'__str__ 2'"
      ]
     },
     "execution_count": 37,
     "metadata": {},
     "output_type": "execute_result"
    }
   ],
   "source": [
    "str(mc)"
   ]
  },
  {
   "cell_type": "markdown",
   "metadata": {},
   "source": [
    "## копирование"
   ]
  },
  {
   "cell_type": "code",
   "execution_count": 39,
   "metadata": {},
   "outputs": [
    {
     "name": "stdout",
     "output_type": "stream",
     "text": [
      "[[1, 4], [2], [3]]\n",
      "[[1, 4], [2]]\n"
     ]
    }
   ],
   "source": [
    "x = [[1], [2]]\n",
    "y = list(x)\n",
    "x.append([3])\n",
    "x[0].append(4)\n",
    "print (x)\n",
    "print (y)"
   ]
  },
  {
   "cell_type": "markdown",
   "metadata": {},
   "source": [
    "## переменные класса и экземпляра"
   ]
  },
  {
   "cell_type": "code",
   "execution_count": 40,
   "metadata": {},
   "outputs": [
    {
     "name": "stdout",
     "output_type": "stream",
     "text": [
      "2\n",
      "2 10\n",
      "0 10 2 20 2\n"
     ]
    }
   ],
   "source": [
    "class My:\n",
    "    a = 2 # переменная класса\n",
    "    def __init__(self, b):\n",
    "        self.b = b # переменная экземпляра\n",
    "        \n",
    "print (My.a)\n",
    "m = My(10)\n",
    "print (m.a, m.b)\n",
    "m2 = My(20)\n",
    "m.a = 0\n",
    "print (m.a, m.b, m2.a, m2.b, My.a)"
   ]
  },
  {
   "cell_type": "code",
   "execution_count": 41,
   "metadata": {},
   "outputs": [
    {
     "name": "stdout",
     "output_type": "stream",
     "text": [
      "10 20\n"
     ]
    }
   ],
   "source": [
    "class My:\n",
    "    a = 2 # переменная класса\n",
    "    def __init__(self, b):\n",
    "        self.b = b # переменная экземпляра\n",
    "        \n",
    "m = My(0)\n",
    "m.a = 10\n",
    "m.b = 20\n",
    "My.a = 30\n",
    "# m = My(0)\n",
    "print (m.a, m.b)"
   ]
  },
  {
   "cell_type": "code",
   "execution_count": 42,
   "metadata": {},
   "outputs": [],
   "source": [
    "class MyClass:\n",
    "    def method(self):\n",
    "        return 'вызван метод экземпляра', self\n",
    "    @classmethod\n",
    "    def classmethod(cls):\n",
    "        return 'вызван метод класса', cls\n",
    "    @staticmethod\n",
    "    def staticmethod():\n",
    "        return 'вызван статический метод'"
   ]
  },
  {
   "cell_type": "code",
   "execution_count": 43,
   "metadata": {},
   "outputs": [
    {
     "data": {
      "text/plain": [
       "('вызван метод экземпляра', <__main__.MyClass at 0x7f3a8f1ce8d0>)"
      ]
     },
     "execution_count": 43,
     "metadata": {},
     "output_type": "execute_result"
    }
   ],
   "source": [
    "obj = MyClass()\n",
    "obj.method()"
   ]
  },
  {
   "cell_type": "code",
   "execution_count": 44,
   "metadata": {},
   "outputs": [
    {
     "data": {
      "text/plain": [
       "('вызван метод экземпляра', <__main__.MyClass at 0x7f3a8f1ce8d0>)"
      ]
     },
     "execution_count": 44,
     "metadata": {},
     "output_type": "execute_result"
    }
   ],
   "source": [
    "MyClass.method(obj)"
   ]
  },
  {
   "cell_type": "code",
   "execution_count": 45,
   "metadata": {},
   "outputs": [
    {
     "data": {
      "text/plain": [
       "('вызван метод класса', __main__.MyClass)"
      ]
     },
     "execution_count": 45,
     "metadata": {},
     "output_type": "execute_result"
    }
   ],
   "source": [
    "obj.classmethod()"
   ]
  },
  {
   "cell_type": "code",
   "execution_count": 46,
   "metadata": {},
   "outputs": [
    {
     "data": {
      "text/plain": [
       "'вызван статический метод'"
      ]
     },
     "execution_count": 46,
     "metadata": {},
     "output_type": "execute_result"
    }
   ],
   "source": [
    "obj.staticmethod()\n",
    "\n",
    "# статические методы не могут получить доступ ни к состоянию экземпляра объекта, ни к состоянию класса"
   ]
  },
  {
   "cell_type": "code",
   "execution_count": 47,
   "metadata": {},
   "outputs": [
    {
     "data": {
      "text/plain": [
       "('вызван метод класса', __main__.MyClass)"
      ]
     },
     "execution_count": 47,
     "metadata": {},
     "output_type": "execute_result"
    }
   ],
   "source": [
    "MyClass.classmethod()"
   ]
  },
  {
   "cell_type": "code",
   "execution_count": 49,
   "metadata": {},
   "outputs": [
    {
     "data": {
      "text/plain": [
       "'вызван статический метод'"
      ]
     },
     "execution_count": 49,
     "metadata": {},
     "output_type": "execute_result"
    }
   ],
   "source": [
    "MyClass.staticmethod()"
   ]
  },
  {
   "cell_type": "code",
   "execution_count": 50,
   "metadata": {},
   "outputs": [
    {
     "ename": "TypeError",
     "evalue": "method() missing 1 required positional argument: 'self'",
     "output_type": "error",
     "traceback": [
      "\u001b[0;31m---------------------------------------------------------------------------\u001b[0m",
      "\u001b[0;31mTypeError\u001b[0m                                 Traceback (most recent call last)",
      "\u001b[0;32m<ipython-input-50-88f17b4fa117>\u001b[0m in \u001b[0;36m<module>\u001b[0;34m()\u001b[0m\n\u001b[0;32m----> 1\u001b[0;31m \u001b[0mMyClass\u001b[0m\u001b[0;34m.\u001b[0m\u001b[0mmethod\u001b[0m\u001b[0;34m(\u001b[0m\u001b[0;34m)\u001b[0m\u001b[0;34m\u001b[0m\u001b[0m\n\u001b[0m",
      "\u001b[0;31mTypeError\u001b[0m: method() missing 1 required positional argument: 'self'"
     ]
    }
   ],
   "source": [
    "MyClass.method()"
   ]
  },
  {
   "cell_type": "markdown",
   "metadata": {},
   "source": [
    "# словари"
   ]
  },
  {
   "cell_type": "code",
   "execution_count": 6,
   "metadata": {},
   "outputs": [
    {
     "data": {
      "text/plain": [
       "{(1, 2): [1, 2]}"
      ]
     },
     "execution_count": 6,
     "metadata": {},
     "output_type": "execute_result"
    }
   ],
   "source": [
    "dict({(1, 2): [1, 2]})"
   ]
  },
  {
   "cell_type": "code",
   "execution_count": 63,
   "metadata": {},
   "outputs": [
    {
     "data": {
      "text/plain": [
       "{True: 'возможно'}"
      ]
     },
     "execution_count": 63,
     "metadata": {},
     "output_type": "execute_result"
    }
   ],
   "source": [
    "{True: 'да', 1: 'нет', 1.0: 'возможно'}"
   ]
  },
  {
   "cell_type": "code",
   "execution_count": 64,
   "metadata": {},
   "outputs": [
    {
     "data": {
      "text/plain": [
       "True"
      ]
     },
     "execution_count": 64,
     "metadata": {},
     "output_type": "execute_result"
    }
   ],
   "source": [
    "True == 1 == 1.0"
   ]
  },
  {
   "cell_type": "markdown",
   "metadata": {},
   "source": [
    "# словарь с порядком"
   ]
  },
  {
   "cell_type": "code",
   "execution_count": 7,
   "metadata": {},
   "outputs": [
    {
     "data": {
      "text/plain": [
       "OrderedDict([('one', 1), ('two', 2), ('three', 3)])"
      ]
     },
     "execution_count": 7,
     "metadata": {},
     "output_type": "execute_result"
    }
   ],
   "source": [
    "# словарь с порядком ключей\n",
    "import collections \n",
    "d = collections.OrderedDict(one=1, two=2, three=3)\n",
    "d"
   ]
  },
  {
   "cell_type": "code",
   "execution_count": 12,
   "metadata": {},
   "outputs": [
    {
     "data": {
      "text/plain": [
       "(1, [])"
      ]
     },
     "execution_count": 12,
     "metadata": {},
     "output_type": "execute_result"
    }
   ],
   "source": [
    "# словарь со значение по умолчанию\n",
    "import collections \n",
    "d = collections.defaultdict(list, one=1, two=2, three=3, default='111')\n",
    "d['one'], d['2'] # по умолчанию - пустой список"
   ]
  },
  {
   "cell_type": "code",
   "execution_count": 14,
   "metadata": {},
   "outputs": [
    {
     "data": {
      "text/plain": [
       "(1, 2, 4, 6)"
      ]
     },
     "execution_count": 14,
     "metadata": {},
     "output_type": "execute_result"
    }
   ],
   "source": [
    "# словари -> в один словарь\n",
    "from collections import ChainMap \n",
    "d1 = {1:1, 2:2}\n",
    "d2 = {2:3, 3:4}\n",
    "d3 = {3:5, 4:6}\n",
    "cm = ChainMap(d1, d2, d3)\n",
    "\n",
    "cm[1], cm[2], cm[3], cm[4]"
   ]
  },
  {
   "cell_type": "markdown",
   "metadata": {},
   "source": [
    "# кортежи"
   ]
  },
  {
   "cell_type": "code",
   "execution_count": 19,
   "metadata": {},
   "outputs": [
    {
     "data": {
      "text/plain": [
       "((), (1,), 1)"
      ]
     },
     "execution_count": 19,
     "metadata": {},
     "output_type": "execute_result"
    }
   ],
   "source": [
    "a = ()\n",
    "# b = (,)\n",
    "c = (1,)\n",
    "#d = (,1)\n",
    "e = (1)\n",
    "\n",
    "a, c, e"
   ]
  },
  {
   "cell_type": "code",
   "execution_count": 20,
   "metadata": {},
   "outputs": [
    {
     "data": {
      "text/plain": [
       "(1,)"
      ]
     },
     "execution_count": 20,
     "metadata": {},
     "output_type": "execute_result"
    }
   ],
   "source": [
    "a  + c"
   ]
  },
  {
   "cell_type": "markdown",
   "metadata": {},
   "source": [
    "## типизированные массивы"
   ]
  },
  {
   "cell_type": "code",
   "execution_count": 21,
   "metadata": {},
   "outputs": [
    {
     "data": {
      "text/plain": [
       "(array('f', [1.0, 1.5, 2.0, 2.5]), array('f', [1.0, 1.5]))"
      ]
     },
     "execution_count": 21,
     "metadata": {},
     "output_type": "execute_result"
    }
   ],
   "source": [
    "import array \n",
    "arr = array.array('f', (1.0, 1.5, 2.0, 2.5))\n",
    "arr, arr[:2]"
   ]
  },
  {
   "cell_type": "markdown",
   "metadata": {},
   "source": [
    "# строки"
   ]
  },
  {
   "cell_type": "code",
   "execution_count": 22,
   "metadata": {},
   "outputs": [
    {
     "data": {
      "text/plain": [
       "'3'"
      ]
     },
     "execution_count": 22,
     "metadata": {},
     "output_type": "execute_result"
    }
   ],
   "source": [
    "s1 = '123'\n",
    "s2 = '45'\n",
    "s1 + s2\n",
    "#s1[4]\n",
    "s1[-1]\n",
    "# (s1 s2)\n",
    "# del s1[1]"
   ]
  },
  {
   "cell_type": "markdown",
   "metadata": {},
   "source": [
    "## именнованный список"
   ]
  },
  {
   "cell_type": "code",
   "execution_count": 31,
   "metadata": {},
   "outputs": [
    {
     "name": "stdout",
     "output_type": "stream",
     "text": [
      "Авто(цвет='red', пробег='1200', автомат=True)\n"
     ]
    }
   ],
   "source": [
    "# именнованный список\n",
    "from collections import namedtuple \n",
    "Car = namedtuple('Авто' , 'цвет пробег автомат')\n",
    "print (Car('red', '1200', True))"
   ]
  },
  {
   "cell_type": "code",
   "execution_count": 32,
   "metadata": {},
   "outputs": [
    {
     "name": "stdout",
     "output_type": "stream",
     "text": [
      "Car(цвет='red', пробег='1200', автомат=True)\n"
     ]
    }
   ],
   "source": [
    "# Python 3.x\n",
    "from typing import NamedTuple\n",
    "class Car(NamedTuple):\n",
    "    цвет: str\n",
    "    пробег: float\n",
    "    автомат: bool\n",
    "print (Car('red', '1200', True))"
   ]
  },
  {
   "cell_type": "markdown",
   "metadata": {},
   "source": [
    "# мультимножество"
   ]
  },
  {
   "cell_type": "code",
   "execution_count": 35,
   "metadata": {},
   "outputs": [
    {
     "data": {
      "text/plain": [
       "Counter({'клинок': 1, 'хлеб': 3})"
      ]
     },
     "execution_count": 35,
     "metadata": {},
     "output_type": "execute_result"
    }
   ],
   "source": [
    "from collections import Counter \n",
    "\n",
    "inventory = Counter() \n",
    "loot = {'клинок': 1, 'хлеб': 3} \n",
    "inventory.update(loot) \n",
    "inventory "
   ]
  },
  {
   "cell_type": "code",
   "execution_count": 36,
   "metadata": {},
   "outputs": [
    {
     "data": {
      "text/plain": [
       "Counter({'клинок': 2, 'хлеб': 3, 'яблоко': 1})"
      ]
     },
     "execution_count": 36,
     "metadata": {},
     "output_type": "execute_result"
    }
   ],
   "source": [
    "inventory.update({'клинок': 1, 'яблоко': 1}) \n",
    "inventory"
   ]
  },
  {
   "cell_type": "code",
   "execution_count": 40,
   "metadata": {},
   "outputs": [
    {
     "data": {
      "text/plain": [
       "(3, 6)"
      ]
     },
     "execution_count": 40,
     "metadata": {},
     "output_type": "execute_result"
    }
   ],
   "source": [
    "len(inventory), sum(inventory.values())"
   ]
  },
  {
   "cell_type": "markdown",
   "metadata": {},
   "source": [
    "# очередь с двусторониим доступом"
   ]
  },
  {
   "cell_type": "code",
   "execution_count": 41,
   "metadata": {},
   "outputs": [
    {
     "data": {
      "text/plain": [
       "('2', '1')"
      ]
     },
     "execution_count": 41,
     "metadata": {},
     "output_type": "execute_result"
    }
   ],
   "source": [
    "# для очереди FIFO - лучше использовать это!\n",
    "\n",
    "from collections import deque\n",
    "# LifoQueue - в параллельных вычислениях\n",
    "s = deque() \n",
    "s.append('1') \n",
    "s.append('2') \n",
    "s.pop(), s.pop()"
   ]
  },
  {
   "cell_type": "code",
   "execution_count": 42,
   "metadata": {},
   "outputs": [
    {
     "data": {
      "text/plain": [
       "('1', '2')"
      ]
     },
     "execution_count": 42,
     "metadata": {},
     "output_type": "execute_result"
    }
   ],
   "source": [
    "s = deque() \n",
    "s.append('1') \n",
    "s.append('2') \n",
    "s.popleft(), s.popleft()"
   ]
  },
  {
   "cell_type": "markdown",
   "metadata": {},
   "source": [
    "# очереди с приоритетом"
   ]
  },
  {
   "cell_type": "code",
   "execution_count": 43,
   "metadata": {},
   "outputs": [
    {
     "name": "stdout",
     "output_type": "stream",
     "text": [
      "(1, 'a')\n",
      "(2, 'b')\n",
      "(3, 'c')\n"
     ]
    }
   ],
   "source": [
    "from queue import PriorityQueue \n",
    "q = PriorityQueue()\n",
    "q.put((2, 'b')) \n",
    "q.put((1, 'a')) \n",
    "q.put((3, 'c'))\n",
    "while not q.empty():\n",
    "    next_item = q.get()\n",
    "    print(next_item)"
   ]
  },
  {
   "cell_type": "markdown",
   "metadata": {},
   "source": [
    "## списки"
   ]
  },
  {
   "cell_type": "code",
   "execution_count": 45,
   "metadata": {},
   "outputs": [
    {
     "name": "stdout",
     "output_type": "stream",
     "text": [
      "[]\n",
      "[]\n"
     ]
    }
   ],
   "source": [
    "# очистка списка\n",
    "lst = [1, 2, 3]\n",
    "del lst[:]\n",
    "print (lst)\n",
    "\n",
    "lst = [1, 2, 3]\n",
    "lst.clear()\n",
    "print (lst)\n"
   ]
  },
  {
   "cell_type": "markdown",
   "metadata": {},
   "source": [
    "# генераторы"
   ]
  },
  {
   "cell_type": "code",
   "execution_count": 46,
   "metadata": {},
   "outputs": [],
   "source": [
    "def repeater(value):\n",
    "    while True:\n",
    "        yield value"
   ]
  },
  {
   "cell_type": "code",
   "execution_count": 54,
   "metadata": {},
   "outputs": [
    {
     "data": {
      "text/plain": [
       "[0, -1, -4]"
      ]
     },
     "execution_count": 54,
     "metadata": {},
     "output_type": "execute_result"
    }
   ],
   "source": [
    "vals = range(3) \n",
    "squared = (i * i for i in vals) \n",
    "negated = (-i for i in squared)\n",
    "list(negated)"
   ]
  },
  {
   "cell_type": "markdown",
   "metadata": {},
   "source": [
    "## когда функции  - элементы списка"
   ]
  },
  {
   "cell_type": "code",
   "execution_count": 6,
   "metadata": {},
   "outputs": [
    {
     "name": "stdout",
     "output_type": "stream",
     "text": [
      "Populating the interactive namespace from numpy and matplotlib\n"
     ]
    },
    {
     "name": "stderr",
     "output_type": "stream",
     "text": [
      "/home/dash/anaconda3/lib/python3.6/site-packages/IPython/core/magics/pylab.py:160: UserWarning: pylab import has clobbered these variables: ['f']\n",
      "`%matplotlib` prevents importing * from pylab and numpy\n",
      "  \"\\n`%matplotlib` prevents importing * from pylab and numpy\"\n",
      "/home/dash/anaconda3/lib/python3.6/site-packages/ipykernel_launcher.py:13: RuntimeWarning: divide by zero encountered in log\n",
      "  del sys.path[0]\n"
     ]
    },
    {
     "data": {
      "text/plain": [
       "(0.0, 2.0)"
      ]
     },
     "execution_count": 6,
     "metadata": {},
     "output_type": "execute_result"
    },
    {
     "data": {
      "image/png": "[encoded data removed]",
      "text/plain": [
       "<Figure size 504x216 with 1 Axes>"
      ]
     },
     "metadata": {},
     "output_type": "display_data"
    }
   ],
   "source": [
    "import pandas as pd\n",
    "import numpy as np\n",
    "# для встроенных картинок\n",
    "%pylab inline\n",
    "# чуть покрасивше картинки:\n",
    "plt.style.use('seaborn-dark')\n",
    "import matplotlib.pyplot as plt\n",
    "plt.rc('font', size=14)\n",
    "\n",
    "plt.figure(figsize=(7, 3))\n",
    "x = np.linspace(0, 2)\n",
    "for f in [np.sin, np.cos, np.exp, np.log]:\n",
    "    plt.plot(x, f(x), label=f.__name__)\n",
    "plt.legend(loc=(1,0))\n",
    "plt.grid(lw=2)\n",
    "plt.xlim(x.min(), x.max())"
   ]
  },
  {
   "cell_type": "code",
   "execution_count": null,
   "metadata": {},
   "outputs": [],
   "source": []
  }
 ],
 "metadata": {
  "kernelspec": {
   "display_name": "Python 3",
   "language": "python",
   "name": "python3"
  },
  "language_info": {
   "codemirror_mode": {
    "name": "ipython",
    "version": 3
   },
   "file_extension": ".py",
   "mimetype": "text/x-python",
   "name": "python",
   "nbconvert_exporter": "python",
   "pygments_lexer": "ipython3",
   "version": "3.6.5"
  }
 },
 "nbformat": 4,
 "nbformat_minor": 2
}
